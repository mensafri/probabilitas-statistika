{
 "cells": [
  {
   "cell_type": "markdown",
   "id": "6c373dc5",
   "metadata": {},
   "source": [
    "# Peluang\n",
    "\n",
    "**Peluang** atau **probabilitas** menggambarkan besarnya kesempatan yang akan\n",
    "muncul dalam suatu kejadian tertentu pada kondisi tertentu serta diwakili\n",
    "oleh nilai di antara 0 dan 1.\n",
    "\n",
    "### A. RUANG SAMPEL\n",
    "\n",
    "Ruang sampel merupakan himpunan semua kemungkinan hasil suatu\n",
    "percobaan. Biasanya dilambangkan dengan huruf S. Setiap kemungkinan\n",
    "dalam suatu ruang sampel disebut unsur atau anggota ruang sampel atau titik\n",
    "sampel.\n",
    "\n",
    "### B. KEJADIAN\n",
    "\n",
    "Kejadian disebut juga dengan peristiwa yaitu himpunan bagian dari\n",
    "ruang sampel. Kejadian dibedakan menjadi dua bagian, yaitu kejadian\n",
    "sederhana dan kejadian majemuk.\n",
    "\n",
    "**Kejadian Sederhana** Bila suatu kejadian dapat dinyatakan sebagai\n",
    "sebuah himpunan yang hanya terdiri dari satu titik sampel.\n",
    "\n",
    "**Kejadian Majemuk** Kejadian yang dapat dinyatakan sebagai gabungan\n",
    "beberapa kejadian sederhana.\n",
    "\n",
    "### C. PELUANG SUATU KEJADIAN\n",
    "\n",
    "Secara umum peluang suatu kejadian dapat didefinisikan sebagai\n",
    "perbandingan banyaknya titik sampel kejadian dengan banyaknya anggota\n",
    "ruang sampel kejadian.\n",
    "\n",
    "**Peluang Suatu Kejadian** Misalkan A adalah suatu kejadian yang terjadi,\n",
    "maka nilai peluang suatu kejadian A dinyatakan dengan:\n",
    "\n",
    "$$\\large\n",
    "P(A) = \\frac{n(A)}{n(S)}\n",
    "$$\n",
    "\n",
    "dimana:\n",
    "\n",
    "$n(A)$ adalah banyaknya kejadian A yang terjadi\n",
    "\n",
    "$n(S)$ adalah banyaknya seluruh kejadian yang terjadi\n",
    "\n",
    "$n(S) > n(A)$"
   ]
  },
  {
   "cell_type": "markdown",
   "id": "f3a8f0f6",
   "metadata": {},
   "source": [
    "Dengan menggunakan python kita bisa membuat fungsi untuk menentukan peluang kejadian, seperti berikut:"
   ]
  },
  {
   "cell_type": "code",
   "execution_count": 5,
   "id": "5f65dfec",
   "metadata": {},
   "outputs": [],
   "source": [
    "def peluang_kejadian(kejadian, ruang_sampel):\n",
    "    peluang = (kejadian / ruang_sampel) * 100\n",
    "    return round(peluang, 1)"
   ]
  },
  {
   "cell_type": "code",
   "execution_count": 10,
   "id": "60c11a1c",
   "metadata": {},
   "outputs": [
    {
     "name": "stdout",
     "output_type": "stream",
     "text": [
      "Berarti peluang kejadian kartu hati adalah 25.0%\n"
     ]
    }
   ],
   "source": [
    "kartu = 52 # Total kartu\n",
    "kartu_hati = 13 # Kemungkinan keluar kartu berbentuk hati\n",
    "peluang_hati = peluang_kejadian(kartu_hati, kartu)\n",
    "print(f'Berarti peluang kejadian kartu hati adalah {peluang_hati}%')"
   ]
  },
  {
   "cell_type": "markdown",
   "id": "6676a009",
   "metadata": {},
   "source": [
    "### D. PENGAMBILAN SAMPEL\n",
    "\n",
    "Dalam menentukan peluang, hal yang sudah pasti dilakukan adalah\n",
    "mengetahui banyaknya anggota ruang kejadian dan ruang sampel. Nah, cara\n",
    "menentukan banyaknya anggota ruang sampel dan ruang kejadian ini bisa\n",
    "dengan permutasi atau kombinasi. Secara rinci permutasi dan kombinasi\n",
    "dapat diuraikan sebagai berikut.\n",
    "\n",
    "##### 1. Permutasi\n",
    "\n",
    "Merupakan suatu susunan yang dibentuk oleh keseluruhan atau sebagian\n",
    "dari sekumpulan benda. Cara penyusunan benda ini dengan memerhatikan\n",
    "urutan. Misalnya, dalam permutasi AB berbeda dengan BA.\n",
    "\n",
    "Terdapat beberapa macam permutasi, kita bisa langsung praktek dengan menggunakan python"
   ]
  },
  {
   "cell_type": "code",
   "execution_count": 11,
   "id": "22b8a89e",
   "metadata": {},
   "outputs": [],
   "source": [
    "import itertools"
   ]
  },
  {
   "cell_type": "markdown",
   "id": "924a4369",
   "metadata": {},
   "source": [
    "#### Permutasi Sederhana\n",
    "\n",
    "$$\\large\n",
    "_nP_n = n!\n",
    "$$"
   ]
  },
  {
   "cell_type": "code",
   "execution_count": 12,
   "id": "a26801f6",
   "metadata": {},
   "outputs": [
    {
     "name": "stdout",
     "output_type": "stream",
     "text": [
      "('A', 'B', 'C')\n",
      "('A', 'C', 'B')\n",
      "('B', 'A', 'C')\n",
      "('B', 'C', 'A')\n",
      "('C', 'A', 'B')\n",
      "('C', 'B', 'A')\n"
     ]
    }
   ],
   "source": [
    "data = ['A', 'B', 'C']\n",
    "permutasi = itertools.permutations(data)\n",
    "\n",
    "for perm in permutasi:\n",
    "    print(perm)"
   ]
  },
  {
   "cell_type": "markdown",
   "id": "2cda5bf3",
   "metadata": {},
   "source": [
    "#### Permutasi pada sejumlah objek tertentu\n",
    "\n",
    "$$\\large\n",
    "_nP_r = \\frac{n!}{(n-r)!}\n",
    "$$"
   ]
  },
  {
   "cell_type": "code",
   "execution_count": 13,
   "id": "f479f365",
   "metadata": {},
   "outputs": [],
   "source": [
    "data = ['A', 'B', 'C', 'D']"
   ]
  },
  {
   "cell_type": "markdown",
   "id": "ee881db9",
   "metadata": {},
   "source": [
    "$$\\large\n",
    "_4P_2 = \\frac{4!}{(4-2)!}  = \\frac{4\\times3\\times2!}{2!} = 12\n",
    "$$"
   ]
  },
  {
   "cell_type": "code",
   "execution_count": 14,
   "id": "36556609",
   "metadata": {},
   "outputs": [
    {
     "name": "stdout",
     "output_type": "stream",
     "text": [
      "('A', 'B')\n",
      "('A', 'C')\n",
      "('A', 'D')\n",
      "('B', 'A')\n",
      "('B', 'C')\n",
      "('B', 'D')\n",
      "('C', 'A')\n",
      "('C', 'B')\n",
      "('C', 'D')\n",
      "('D', 'A')\n",
      "('D', 'B')\n",
      "('D', 'C')\n"
     ]
    }
   ],
   "source": [
    "permutasi = itertools.permutations(data, 2)\n",
    "\n",
    "for perm in permutasi:\n",
    "    print(perm)"
   ]
  },
  {
   "cell_type": "markdown",
   "id": "4dc04c8d",
   "metadata": {},
   "source": [
    "#### Kalkulasi Permutasi dengan Python¶\n",
    "\n",
    "kasus 1:\n",
    "\n",
    "$$\\large\n",
    "_4P_2 = ?\n",
    "$$"
   ]
  },
  {
   "cell_type": "code",
   "execution_count": 15,
   "id": "bcf1c811",
   "metadata": {},
   "outputs": [
    {
     "data": {
      "text/plain": [
       "12"
      ]
     },
     "execution_count": 15,
     "metadata": {},
     "output_type": "execute_result"
    }
   ],
   "source": [
    "permutasi = itertools.permutations(range(4), 2)\n",
    "len(tuple(permutasi))"
   ]
  },
  {
   "cell_type": "markdown",
   "id": "10ce8304",
   "metadata": {},
   "source": [
    "kasus 2: \n",
    "\n",
    "$$\\large\n",
    "_9P_4 = ?\n",
    "$$"
   ]
  },
  {
   "cell_type": "code",
   "execution_count": 16,
   "id": "79181984",
   "metadata": {
    "scrolled": true
   },
   "outputs": [
    {
     "data": {
      "text/plain": [
       "3024"
      ]
     },
     "execution_count": 16,
     "metadata": {},
     "output_type": "execute_result"
    }
   ],
   "source": [
    "permutasi = itertools.permutations(range(9), 4)\n",
    "len(tuple(permutasi))"
   ]
  },
  {
   "cell_type": "markdown",
   "id": "02ac2a5f",
   "metadata": {},
   "source": [
    "##### 2. Kombinasi\n",
    "\n",
    "Lain halnya dengan permutasi, yaitu cara penyusunan objek dengan\n",
    "memandang urutan, maka yang dinamakan kombinasi adalah cara\n",
    "penyusunan objek dengan tidak memandang urutan. Konsep kombinasi ini\n",
    "berguna pada saat kita menghadapi suatu pertanyaan bagaimana mengambil r\n",
    "benda dari n benda yang tersedia. Perhatikan ilustrasi berikut.\n",
    "\n",
    "Misalnya saya akan memilih 2 orang dari 4 mahasiswa untuk mengikuti\n",
    "seminar nasional. Sebut saja keempat orang itu adalah A, B, C, D. Pemilihan\n",
    "ini saya lakukan secara acak. Pertanyaannya, siapa saja kemungkinan yang\n",
    "dapat terpilih? Maka kemungkinan-kemungkinan yang dapat terjadi adalah:\n",
    "\n",
    "AB, AC, AD, BC, BD, CD.\n",
    "\n",
    "Kombinasi langsung bisa kita praktekkan dengan python"
   ]
  },
  {
   "cell_type": "markdown",
   "id": "fa1c7e06",
   "metadata": {},
   "source": [
    "#### Kombinasi Sederhana¶\n",
    "\n",
    "$$\\large\n",
    "_nC_r = \\frac{n!}{(n-r)! \\times r!}\n",
    "$$"
   ]
  },
  {
   "cell_type": "code",
   "execution_count": 17,
   "id": "35344ef8",
   "metadata": {},
   "outputs": [],
   "source": [
    "data = ['A', 'B', 'C', 'D', 'E']"
   ]
  },
  {
   "cell_type": "markdown",
   "id": "84e43bb9",
   "metadata": {},
   "source": [
    "$$\\large\n",
    "_5C_3 = \\frac{5!}{(5-3)! \\times 3!}\n",
    "$$"
   ]
  },
  {
   "cell_type": "code",
   "execution_count": 18,
   "id": "9ecc4320",
   "metadata": {},
   "outputs": [
    {
     "name": "stdout",
     "output_type": "stream",
     "text": [
      "('A', 'B', 'C')\n",
      "('A', 'B', 'D')\n",
      "('A', 'B', 'E')\n",
      "('A', 'C', 'D')\n",
      "('A', 'C', 'E')\n",
      "('A', 'D', 'E')\n",
      "('B', 'C', 'D')\n",
      "('B', 'C', 'E')\n",
      "('B', 'D', 'E')\n",
      "('C', 'D', 'E')\n"
     ]
    }
   ],
   "source": [
    "kombinasi = itertools.combinations(data, 3)\n",
    "\n",
    "for comb in kombinasi:\n",
    "    print(comb)"
   ]
  },
  {
   "cell_type": "markdown",
   "id": "1eae5a9e",
   "metadata": {},
   "source": [
    "#### Kalkulasi Kombinasi dengan Python\n",
    "\n",
    "kasus 1:\n",
    "\n",
    "$$\\large\n",
    "_5P_3 = ?\n",
    "$$"
   ]
  },
  {
   "cell_type": "code",
   "execution_count": 19,
   "id": "e1833fc0",
   "metadata": {},
   "outputs": [
    {
     "data": {
      "text/plain": [
       "10"
      ]
     },
     "execution_count": 19,
     "metadata": {},
     "output_type": "execute_result"
    }
   ],
   "source": [
    "kombinasi = itertools.combinations(range(5), 3)\n",
    "len(tuple(kombinasi))"
   ]
  },
  {
   "cell_type": "markdown",
   "id": "e404762e",
   "metadata": {},
   "source": [
    "kasus 2:\n",
    "\n",
    "$$\\large\n",
    "_9P_4 = ?\n",
    "$$"
   ]
  },
  {
   "cell_type": "code",
   "execution_count": 20,
   "id": "8720c2c3",
   "metadata": {},
   "outputs": [
    {
     "data": {
      "text/plain": [
       "126"
      ]
     },
     "execution_count": 20,
     "metadata": {},
     "output_type": "execute_result"
    }
   ],
   "source": [
    "kombinasi = itertools.combinations(range(9), 4)\n",
    "len(tuple(kombinasi))"
   ]
  },
  {
   "cell_type": "markdown",
   "id": "e361d902",
   "metadata": {},
   "source": [
    "Kombinasi lanjutan\n",
    "Sebuah ember berisikan kelereng sebagai berikut: 4 kelereng merah, 3 kelereng biru, 4 kelereng hijau, dan 3 kelereng kuning.\n",
    "\n",
    "pertanyaan:\n",
    "    \n",
    "    1. berapa set/grup yang dapat dibentuk dari 4 kelereng?\n",
    "    2. berapa set/grup yang dapat dibentuk dari 4 kelereng jika tiap kelereng warnanya berbeda?\n",
    "    3. berapa set/grup yang dapat dibentuk dari 4 kelereng jika minimal terdapat 2 kelereng merah didalamnya?\n",
    "    4. berapa set/grup yang dapat dibentuk dari 4 kelereng jika warna merah tidak boleh diikut sertakan didalam set/grup, tetapi minimal harus ada 1 kelereng hijau?"
   ]
  },
  {
   "cell_type": "code",
   "execution_count": 21,
   "id": "90e1d11a",
   "metadata": {},
   "outputs": [
    {
     "data": {
      "text/plain": [
       "['m1',\n",
       " 'm2',\n",
       " 'm3',\n",
       " 'm4',\n",
       " 'b1',\n",
       " 'b2',\n",
       " 'b3',\n",
       " 'h1',\n",
       " 'h2',\n",
       " 'h3',\n",
       " 'h4',\n",
       " 'k1',\n",
       " 'k2',\n",
       " 'k3']"
      ]
     },
     "execution_count": 21,
     "metadata": {},
     "output_type": "execute_result"
    }
   ],
   "source": [
    "data = ['m1','m2','m3','m4',\n",
    "        'b1','b2','b3',\n",
    "        'h1','h2','h3','h4',\n",
    "        'k1','k2','k3']\n",
    "data"
   ]
  },
  {
   "cell_type": "markdown",
   "id": "a294ef10",
   "metadata": {},
   "source": [
    "jawaban no 1"
   ]
  },
  {
   "cell_type": "code",
   "execution_count": 22,
   "id": "5ffc5c9f",
   "metadata": {},
   "outputs": [
    {
     "data": {
      "text/plain": [
       "1001"
      ]
     },
     "execution_count": 22,
     "metadata": {},
     "output_type": "execute_result"
    }
   ],
   "source": [
    "kombinasi = itertools.combinations(data, 4)\n",
    "len(tuple(kombinasi))"
   ]
  },
  {
   "cell_type": "markdown",
   "id": "a4930fe4",
   "metadata": {},
   "source": [
    "jawaban no 2"
   ]
  },
  {
   "cell_type": "code",
   "execution_count": 23,
   "id": "ee11d982",
   "metadata": {},
   "outputs": [
    {
     "data": {
      "text/plain": [
       "144"
      ]
     },
     "execution_count": 23,
     "metadata": {},
     "output_type": "execute_result"
    }
   ],
   "source": [
    "m = len(tuple(itertools.combinations(range(4),1)))\n",
    "b = len(tuple(itertools.combinations(range(3),1)))\n",
    "h = len(tuple(itertools.combinations(range(4),1)))\n",
    "k = len(tuple(itertools.combinations(range(3),1)))\n",
    "jawab = m * b * h * k\n",
    "jawab"
   ]
  },
  {
   "cell_type": "markdown",
   "id": "28ee8969",
   "metadata": {},
   "source": [
    "jawaban no 3"
   ]
  },
  {
   "cell_type": "code",
   "execution_count": 24,
   "id": "e68d7409",
   "metadata": {},
   "outputs": [
    {
     "data": {
      "text/plain": [
       "311"
      ]
     },
     "execution_count": 24,
     "metadata": {},
     "output_type": "execute_result"
    }
   ],
   "source": [
    "# kondisi 1 = (2 merah dari 4 merah) * (2 bukan merah dari 10 bukan merah)\n",
    "k1 = len(tuple(itertools.combinations(range(4),2))) * len(tuple(itertools.combinations(range(10),2)))\n",
    "\n",
    "# kondisi 2 = (3 merah dari 4 merah) * (1 bukan merah dari 10 bukan merah)\n",
    "k2 = len(tuple(itertools.combinations(range(4),3))) * len(tuple(itertools.combinations(range(10),1)))\n",
    "\n",
    "# kondisi 3 = keempatnya merah\n",
    "\n",
    "k3 = len(tuple(itertools.combinations(range(4),4)))\n",
    "\n",
    "jawab = k1 + k2 + k3\n",
    "jawab"
   ]
  },
  {
   "cell_type": "markdown",
   "id": "1c0d03f7",
   "metadata": {},
   "source": [
    "jawaban no 4"
   ]
  },
  {
   "cell_type": "code",
   "execution_count": 25,
   "id": "27e7cb2d",
   "metadata": {},
   "outputs": [
    {
     "data": {
      "text/plain": [
       "195"
      ]
     },
     "execution_count": 25,
     "metadata": {},
     "output_type": "execute_result"
    }
   ],
   "source": [
    "#kondisi 1 = 1h (1 hijau) * 3sh (3 selain hijau):tanpa merah\n",
    "#kondisi 2 = 2h * 2sh: tanpa merah\n",
    "#kondisi 3 = 3h * 1sh: tanpa merah\n",
    "#kondisi 4 = 4h\n",
    "#jawab = k1 + k2 + k3 + k4\n",
    "\n",
    "k1 = len(tuple(itertools.combinations(range(4),1))) * len(tuple(itertools.combinations(range(6),3)))\n",
    "k2 = len(tuple(itertools.combinations(range(4),2))) * len(tuple(itertools.combinations(range(6),2)))\n",
    "k3 = len(tuple(itertools.combinations(range(4),3))) * len(tuple(itertools.combinations(range(6),1)))\n",
    "k4 = len(tuple(itertools.combinations(range(4),4)))\n",
    "jawab = k1 + k2 + k3 + k4\n",
    "jawab"
   ]
  },
  {
   "cell_type": "markdown",
   "id": "1e3319b8",
   "metadata": {},
   "source": [
    "### Peluang Bersyarat dan Teorema Bayes\n",
    "\n",
    "#### A. PELUANG BERSYARAT\n",
    "\n",
    "Peluang bersyarat dapat terjadi jika dua kejadian terjadi secara berurutan\n",
    "dan kedua kejadian tersebut tidak saling bebas, namun saling mempengaruhi\n",
    "\n",
    "**Peluang Bersyarat B** bila A diketahui dinyatakan dengan $P(B|A)$, ditentukan oleh $P(B|A) = \\frac{P(A\\cap B)}{P(A)}$, dengan $P(A) > 0$\n",
    "\n",
    "Peluang kereta api Gajayana berangkat tepat pada waktunya $P(A) = 0,85.$\n",
    "Peluang kereta api Gajayana datang tepat pada waktunya adalah $P(B) = 0,90.$\n",
    "dan peluang kereta api tersebut berangkat dan datang tepat pada waktunya\n",
    "adalah $P(A\\cap B) =  0,75.$ \n",
    "\n",
    "Hitunglah a) Peluang kereta api Gajayana datang\n",
    "tepat pada waktunya bila diketahui kereta api tersebut berangkat tepat pada\n",
    "waktunya, b) Peluang bahwa kereta api Gajayana berangkat tepat pada\n",
    "waktunya bila diketahui kereta api tersebut datang tepat pada waktunya.\n",
    "Jawab:\n"
   ]
  },
  {
   "cell_type": "code",
   "execution_count": 29,
   "id": "1f04e2c4",
   "metadata": {},
   "outputs": [],
   "source": [
    "pa = 0.85\n",
    "pb = 0.90\n",
    "agb = 0.75 # A gabungan B"
   ]
  },
  {
   "cell_type": "markdown",
   "id": "906233c0",
   "metadata": {},
   "source": [
    "a. Peluang bahwa kereta api Gajayana datang tepat pada waktunya bila\n",
    "diketahui kereta api tersebut berangkat tepat pada waktunya."
   ]
  },
  {
   "cell_type": "code",
   "execution_count": 30,
   "id": "139443a7",
   "metadata": {},
   "outputs": [
    {
     "data": {
      "text/plain": [
       "0.8823529411764706"
      ]
     },
     "execution_count": 30,
     "metadata": {},
     "output_type": "execute_result"
    }
   ],
   "source": [
    "pba = agb/pa\n",
    "pba"
   ]
  },
  {
   "cell_type": "markdown",
   "id": "e9205357",
   "metadata": {},
   "source": [
    "b. Peluang bahwa kereta api Gajayana berangkat tepat pada waktunya bila\n",
    "diketahui kereta api tersebut datang tepat pada waktunya."
   ]
  },
  {
   "cell_type": "code",
   "execution_count": 31,
   "id": "7bde17b0",
   "metadata": {},
   "outputs": [
    {
     "data": {
      "text/plain": [
       "0.8333333333333333"
      ]
     },
     "execution_count": 31,
     "metadata": {},
     "output_type": "execute_result"
    }
   ],
   "source": [
    "pab = agb/pb\n",
    "pab"
   ]
  },
  {
   "cell_type": "markdown",
   "id": "b3cebf50",
   "metadata": {},
   "source": [
    "#### B. TEOREMA BAYES\n",
    "\n",
    "Algoritma Naive Bayes merupakan sebuah metoda klasifikasi menggunakan metode probabilitas dan statistik yg dikemukakan oleh ilmuwan Inggris Thomas Bayes. Algoritma Naive Bayes memprediksi peluang di masa depan berdasarkan pengalaman di masa sebelumnya sehingga dikenal sebagai Teorema Bayes. Ciri utama dr Naïve Bayes Classifier ini adalah asumsi yg sangat kuat (naïf) akan independensi dari masing-masing kondisi / kejadian.\n",
    "\n",
    "Contoh, anggap kita memiliki dua buah mesin produksi yang berbeda. Kedua mesin ini memproduksi tongkat baseball. Mesin 1 memiliki kapasitas produksi lebih besar dari mesin 2. Setiap tongkat baseball yang diproduksi diberi tanda, sehingga kita bisa tahu ia hasil dari mesin yang mana.\n",
    "\n",
    "Setelah kita tunggu 1 jam kita mendapatkan beberapa tongkat baseball, dan terdapat 2 tongkat baseball rusak\n",
    "\n",
    "Pertanyaan yang ingin kita jawab adalah berapa probabilitas (kemungkinan kejadian) mesin 2 memproduksi tongkat yang rusak?\n",
    "\n",
    "Untuk menjawabnya, maka kita akan menggunakan teorema bayes (Bayes Theorem). Formulanya bisa dilihat sebagai berikut:"
   ]
  },
  {
   "attachments": {
    "image.png": {
     "image/png": "[encoded data removed]"
    }
   },
   "cell_type": "markdown",
   "id": "d13d85d0",
   "metadata": {},
   "source": [
    "![image.png](attachment:image.png)"
   ]
  },
  {
   "cell_type": "markdown",
   "id": "c5704b54",
   "metadata": {},
   "source": [
    "Barangkali ada pembaca yang pusing melihat formula di atas. Tenang, tidak usah panik. Saya akan jelaskan dengan mudah.\n",
    "\n",
    "Anggap kita mengetahui kapasitas produksi kedua mesin ini sebagai berikut:\n",
    "\n",
    "- Mesin 1 = 35 tongkat/jam\n",
    "- Mesin 2 = 15 tongkat/jam\n",
    "- Dari semua produk yang dihasilkan 1% nya cacat\n",
    "- Dari semua produk cacat yang ada, 45% berasal dari mesin 1, dan 55% lagi berasal dari mesin 2\n",
    "\n",
    "Pertanyaannya berapa probabilitas mesin 2 menghasilkan produk cacat?\n",
    "\n",
    "Probabilitas mesin 2 menghasilkan produk cacat bukan 55% ya. Itu adalah probabilitas produk cacat yang ada merupakan mesin 2 (kita mengetahui fakta bahwa produknya cacat terlebih dahulu).\n",
    "\n",
    "Untuk menjawabnya, maka kita terjemahkan ke dalam bahasa matematika terlebih dahulu.\n",
    "\n",
    "- P(M1) = 35/50 = 0.7 –> 50 didapat dari 35+15\n",
    "- P(M2) = 15/50 = 0.3\n",
    "- P(Cacat) = 1% = 0.01\n",
    "- P(M1|Cacat) = 45% = 0.45 –> dibaca, peluang barang cacat yang berasal dari mesin 1.\n",
    "- P(M2|Cacat) = 55% = 0.55\n",
    "- P(Cacat|M2) = ? –> dibaca, peluang mesin 2 menghasilkan barang cacat\n",
    "\n",
    "Untuk menghitung P(Cacat|M2) kita tulis rumus bayes nya sebagai berikut:"
   ]
  },
  {
   "attachments": {
    "image.png": {
     "image/png": "[encoded data removed]"
    }
   },
   "cell_type": "markdown",
   "id": "bcc72a90",
   "metadata": {},
   "source": [
    "![image.png](attachment:image.png)"
   ]
  },
  {
   "cell_type": "markdown",
   "id": "49b642fa",
   "metadata": {},
   "source": [
    "Formula bayes untuk permasalahan yang dibahas"
   ]
  },
  {
   "attachments": {
    "image.png": {
     "image/png": "[encoded data removed]"
    }
   },
   "cell_type": "markdown",
   "id": "26006008",
   "metadata": {},
   "source": [
    "![image.png](attachment:image.png)"
   ]
  },
  {
   "cell_type": "markdown",
   "id": "07b82b34",
   "metadata": {},
   "source": [
    "Dengan demikian P(Cacat|M2) adalah 0.018 atau 1.8%\n",
    "\n",
    "Apa artinya? Jika kita memproduksi 1000 tongkat baseball, maka:\n",
    "\n",
    "- Mesin 1 menghasilkan 700 tongkat\n",
    "- Mesin 2 menghasilkan 300 tongkat\n",
    "- Dari total 1000 tongkat, ada 10 tongkat cacat\n",
    "- Dari 10 produk cacat ini, 4.5 produk (dibulatkan menjadi 4) berasal dari mesin 1\n",
    "- Dari 10 produk cacat, 5.5 produk (dibulatkan menjadi 5) berasal dari mesin 2. Karena pembulatan maka total pembulatan menjadi 9.\n",
    "Probabilitas produk cacat yang dihasilkan dari mesin 2 [P(Cacat|M2)] = (0.55*0.01)/0.3 = 1.8%"
   ]
  },
  {
   "cell_type": "markdown",
   "id": "9b5feea2",
   "metadata": {},
   "source": [
    "Contoh dengan menggunakan python\n",
    "\n",
    "Suatu peralatan elektronik tertentu diproduksi oleh tiga perusahaan, X, Y dan Z.\n",
    "\n",
    "75% diproduksi oleh X\n",
    "15% diproduksi oleh Y\n",
    "10% diproduksi oleh Z\n",
    "Tingkat kecacatan peralatan elektronik yang diproduksi oleh perusahaan X, Y dan Z adalah 4%, 6% dan 8%.\n",
    "\n",
    "Jika sebuah peralatan elektronik secara acak ditemukan rusak, berapa peluang bahwa peralatan tersebut diproduksi oleh X?"
   ]
  },
  {
   "cell_type": "markdown",
   "id": "184f51bc",
   "metadata": {},
   "source": [
    "* Misalkan P(X),P(Y) dan P(Z) berturut-turut adalah probabilitas dari peralatan elektronik yang diproduksi oleh perusahaan X, Y dan Z.\n",
    "* Misalkan P(D) adalah probabilitas peralatan elektronik yang rusak.\n",
    "\n",
    "Kita akan menghitung probabilitas P(X|D).\n",
    "\n",
    "$$\\large\n",
    "P(X|D) = \\frac{P(D | X) P(X)} {P(D)}\n",
    "$$"
   ]
  },
  {
   "cell_type": "markdown",
   "id": "679adedd",
   "metadata": {},
   "source": [
    "Aturan Bayes dalam kasus kita akan menjadi seperti ini:\n",
    "\n",
    "$$\\large\n",
    "P(X \\mid D)$ = $\\frac{P(D \\mid X) P(X)} {P(D \\mid X)P(D) + P(D \\mid Y) P(D) + P(D \\mid Z) P(D)}\n",
    "$$\n"
   ]
  },
  {
   "cell_type": "code",
   "execution_count": 3,
   "id": "72ccc4f1",
   "metadata": {},
   "outputs": [
    {
     "name": "stdout",
     "output_type": "stream",
     "text": [
      "P(X|D) adalah 0.6383\n"
     ]
    }
   ],
   "source": [
    "# Misal P1 = P(D|X)\n",
    "# Misal P2 = P(X)\n",
    "# Misal P3 = P(D∣X)P(D)+P(D∣Y)P(D)+P(D∣Z)P(D)\n",
    "# Misal P  = P(X|D) = (P1 * P2) / P3\n",
    "\n",
    "P1       =  0.04 # kemungkinan barang cacat yang diproduksi oleh perusahaan X\n",
    "P2       =  0.75\n",
    "P3       =  0.75 * 0.04 + 0.15 * 0.06 + 0.10 * 0.08 \n",
    "P        =  round((P1 * P2)/P3,4)\n",
    "print('P(X|D) adalah %1.4f' % P)"
   ]
  },
  {
   "cell_type": "markdown",
   "id": "fbbb6fbc",
   "metadata": {},
   "source": [
    "Sumber Penting\n",
    "\n",
    "- https://www.datacamp.com/tutorial/statistics-python-tutorial-probability-1\n",
    "- https://www.megabagus.id/machine-learning-naive-bayes/\n",
    "- https://endahns.wordpress.com/2020/04/30/klasifikasi-data-dengan-menggunakan-algoritma-naive-bayes-dengan-python/"
   ]
  },
  {
   "cell_type": "code",
   "execution_count": null,
   "id": "2c8cc2c9",
   "metadata": {},
   "outputs": [],
   "source": []
  }
 ],
 "metadata": {
  "kernelspec": {
   "display_name": "Python 3 (ipykernel)",
   "language": "python",
   "name": "python3"
  },
  "language_info": {
   "codemirror_mode": {
    "name": "ipython",
    "version": 3
   },
   "file_extension": ".py",
   "mimetype": "text/x-python",
   "name": "python",
   "nbconvert_exporter": "python",
   "pygments_lexer": "ipython3",
   "version": "3.9.13"
  },
  "vscode": {
   "interpreter": {
    "hash": "915745f33f7aa9ed6c91c66c84edee5037f23dd70a7c20dc9181942a567591e1"
   }
  }
 },
 "nbformat": 4,
 "nbformat_minor": 5
}
