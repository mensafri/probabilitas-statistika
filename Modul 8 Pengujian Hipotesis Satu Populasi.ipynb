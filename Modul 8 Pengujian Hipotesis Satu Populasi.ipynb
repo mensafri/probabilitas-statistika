{
 "cells": [
  {
   "cell_type": "markdown",
   "id": "c1a1e046",
   "metadata": {},
   "source": [
    "# Konsep Dasar Pengujian Hipotesis\n",
    "\n",
    "## A. PENGERTIAN HIPOTESIS\n",
    "\n",
    "Setelah dilakukan pendugaan, perlu dilakukan pengujian apakah\n",
    "pendugaan yang kita dapatkan tersebut benar-benar menggambarkan\n",
    "karakteristik populasi. Atau bertujuan untuk mengetahui apakah nilai\n",
    "pendugaan sesuai dengan yang diharapkan. Sebagai contoh perusahaan\n",
    "daging ayam sedang berupaya untuk meningkatkan produksi daging\n",
    "ayamnya. Untuk mencapainya dilakukan pemberian vitamin atau obat\n",
    "tambahan. Dengan pemberian tersebut, perusahaan beranggapan bahwa ratarata berat badan ayam akan naik atau dengan kata lain akan menjadi lebih\n",
    "dari 2,5 kg. Untuk memastikan anggapan tersebut, perlu dilakukan pengujian\n",
    "”Apakah pemberian vitamin atau obat akan meningkatkan rata-rata berat\n",
    "badan menjadi lebih dari 2,5 kg?” Pengujian juga dapat dilakukan pada\n",
    "proporsi, misalnya apakah terdapat 75% peristiwa pencurian dilatarbelakangi\n",
    "oleh keperluan uang untuk membeli ganja atau sejenisnya.\n",
    "Untuk menjawab hal-hal tersebut perlu dilakukan suatu pengujian\n",
    "hipotesis. Jadi, pengujian hipotesis adalah suatu usaha menguji parameter\n",
    "populasi melalui pengambilan sampel. Hipotesis yang digunakan adalah\n",
    "hipotesis statistik, yaitu suatu anggapan atau pernyataan tentang satu atau\n",
    "lebih populasi yang dapat benar atau salah.\n",
    "Hipotesis statististik terdiri dari dua jenis, yaitu:\n",
    "1. Hipotesis nol (H0), adalah suatu dugaan awal terhadap pernyataan\n",
    "tertentu yang dapat diterima atau ditolak. Penolakan atau penerimaan\n",
    "tergantung pada hasil eksperimen dan pemilihan sampel.\n",
    "2. Hipotesis alternatif (H1), adalah lawan dari hipotesis nol dan merupakan\n",
    "hipotesis yang ingin dicari (dibuktikan) oleh peneliti.\n",
    "Dari contoh sebelumnya dapat dituliskan ke dalam hipotesis :\n",
    "\n",
    "$$H_0:\\mu\\le2,5$$ $$H_0:p=0,75$$\n",
    "$$H_1:\\mu>2,5$$ $$H_1:p\\neq0,75$$"
   ]
  },
  {
   "cell_type": "markdown",
   "id": "27a2e599",
   "metadata": {},
   "source": [
    "### Uji Hipotesis\n",
    "\n",
    "- **Uji hipotesis** adalah proses yang menggunakan statistik sampel untuk menguji klaim tentang nilai parameter populasi.\n",
    "- Para peneliti di bidang-bidang seperti kedokteran, psikologi, dan bisnis mengandalkan pengujian hipotesis untuk membuat keputusan tentang obat-obatan baru, perawatan, dan strategi pemasaran."
   ]
  },
  {
   "cell_type": "markdown",
   "id": "9bb1fb0a",
   "metadata": {},
   "source": [
    "### Menyatakan Hipotesis\n",
    "\n",
    "- Pernyataan tentang parameter populasi disebut **hipotesis statistik**.\n",
    "- Untuk menguji parameter populasi, Anda harus menyatakan dengan hati-hati sepasang hipotesis—satu yang mewakili klaim dan yang lainnya, pelengkapnya.\n",
    "- Ketika salah satu dari hipotesis ini salah, yang lain pasti benar. Baik hipotesis—**hipotesis nol** atau **hipotesis alternatif**—dapat mewakili klaim awal.\n",
    "- Istilah **hipotesis nol** diperkenalkan oleh Ronald Fisher.\n",
    "- Jika pernyataan dalam **hipotesis nol** tidak benar, maka **hipotesis alternatif** harus benar."
   ]
  },
  {
   "cell_type": "markdown",
   "id": "7616ee7c",
   "metadata": {},
   "source": [
    "### Menyatakan Hipotesis: Definisi\n",
    "\n",
    "- **Hipotesis nol $H_{0}$** adalah hipotesis statistik yang berisi pernyataan persamaan, seperti $\\le$, $=$, or $\\ge$.\n",
    "- **Hipotesis alternatif $H_{a}$** adalah komplemen dari hipotesis nol. Ini adalah pernyataan yang harus benar jika $H_{0}$ salah dan berisi pernyataan pertidaksamaan yang tegas, seperti $\\gt$, $\\ne$, or $\\lt$."
   ]
  },
  {
   "cell_type": "markdown",
   "id": "8c3269fe",
   "metadata": {},
   "source": [
    "### Menyatakan Hipotesis\n",
    "\n",
    "- Untuk menulis hipotesis nol dan alternatif, terjemahkan klaim yang dibuat tentang parameter populasi dari pernyataan verbal ke pernyataan matematis. Kemudian, tuliskan pelengkapnya.\n",
    "- Misalnya, jika nilai klaim adalah $k$ dan parameter populasi adalah $\\mu$, maka beberapa kemungkinan pasangan hipotesis nol dan alternatif adalah:\n",
    " - $\\left\\{ \\begin{array}{}\n",
    "       H_{0}:\\mu \\le k \\\\\n",
    "       H_{a}:\\mu \\gt k \n",
    "     \\end{array}\\right.$\n",
    "     \n",
    " - $\\left\\{ \\begin{array}{}\n",
    "       H_{0}:\\mu \\ge k \\\\\n",
    "       H_{a}:\\mu \\lt k \n",
    "     \\end{array}\\right.$\n",
    "\n",
    " - $\\left\\{ \\begin{array}{}\n",
    "       H_{0}:\\mu = k \\\\\n",
    "       H_{a}:\\mu \\ne k \n",
    "     \\end{array}\\right.$\n",
    "\n",
    "- Terlepas dari tiga pasang hipotesis yang kami gunakan, kami selalu berasumsi $\\mu = k$ dan memeriksa distribusi sampling berdasarkan asumsi ini.\n",
    "- Dalam distribusi pengambilan sampel ini, kami akan menentukan apakah statistik sampel tidak biasa atau tidak."
   ]
  },
  {
   "cell_type": "markdown",
   "id": "ee018f0b",
   "metadata": {},
   "source": [
    "### Menyatakan Hipotesis Nol dan Alternatif [Contoh 1]\n",
    "\n",
    "Tulis klaim tersebut sebagai pernyataan matematis. Nyatakan hipotesis nol dan alternatif, dan identifikasi mana yang mewakili klaim.\n",
    "\n",
    "- Q1: Sebuah sekolah mengumumkan bahwa proporsi siswanya yang terlibat dalam setidaknya satu kegiatan ekstrakurikuler adalah $61\\%$.\n",
    "- Q2: Dealer mobil mengumumkan bahwa waktu rata-rata untuk mengganti oli adalah kurang dari $15$ menit."
   ]
  },
  {
   "cell_type": "markdown",
   "id": "237f1546",
   "metadata": {},
   "source": [
    "### Menyatakan Hipotesis Nol dan Alternatif [solusi]\n",
    "\n",
    "#### T1: Sebuah sekolah mengumumkan bahwa proporsi siswanya yang terlibat dalam setidaknya satu kegiatan ekstrakurikuler adalah $61\\%$.\n",
    "- Klaim dapat dituliskan sebagai $p = 0,61$.\n",
    "- Komplemennya adalah $p \\ne 0,61$.\n",
    "- Karena $p = 0.61$ berisi pernyataan persamaan, ini menjadi **hipotesis nol**.\n",
    "- Dalam hal ini, **hipotesis nol** mewakili **klaim**.\n",
    "- $\\left\\{ \\begin{array}{}\n",
    "       H_{0}:p = 0.61\\\\\n",
    "       H_{a}:p \\ne 0.61 \n",
    "     \\end{array}\\right.$\n",
    "![](./image/7_1_ex_1_q_1_hypothesis.png)\n",
    "\n",
    "#### T2: Dealer mobil mengumumkan bahwa waktu rata-rata untuk mengganti oli adalah kurang dari $15$ menit.\n",
    "- Klaim dapat ditulis sebagai $\\mu \\lt 15$.\n",
    "- Komplemennya $\\mu \\ge 15$.\n",
    "- Karena $\\mu \\ge 15$ berisi pernyataan persamaan, itu menjadi **hipotesis nol**.\n",
    "- Dalam hal ini, **hipotesis alternatif** mewakili **klaim**.\n",
    "- $\\left\\{ \\begin{array}{}\n",
    "       H_{0}:\\mu \\ge 15\\\\\n",
    "       H_{a}:\\mu \\lt 15 \n",
    "     \\end{array}\\right.$\n",
    "![](./image/7_1_ex_1_q_2_hypothesis.png)"
   ]
  },
  {
   "cell_type": "markdown",
   "id": "65e289e2",
   "metadata": {},
   "source": [
    "### Jenis Kesalahan dan Tingkat Signifikansi\n",
    "\n",
    "- Tidak peduli hipotesis mana yang mewakili klaim, kami selalu memulai pengujian hipotesis dengan mengasumsikan bahwa kondisi persamaan dalam hipotesis nol benar.\n",
    "- Saat kami melakukan uji hipotesis, kami membuat satu dari dua keputusan:\n",
    "   1. menolak hipotesis nol atau\n",
    "   2. menerima (gagal menolak) hipotesis nol.\n",
    "- Karena keputusan Anda didasarkan pada sampel daripada seluruh populasi, selalu ada kemungkinan Anda membuat keputusan yang salah.\n",
    "- Satu-satunya cara untuk benar-benar yakin apakah $H_{0}$ benar atau salah adalah dengan menguji seluruh populasi.\n",
    "- Karena keputusan Anda — menolak $H_{0}$ atau menerima (gagal menolak) $H_{0}$ — didasarkan pada sampel, Anda harus menerima fakta bahwa keputusan Anda mungkin salah."
   ]
  },
  {
   "cell_type": "markdown",
   "id": "acf2b292",
   "metadata": {},
   "source": [
    "### Jenis Kesalahan: Definisi\n",
    "\n",
    "\n",
    "- **Kesalahan tipe I** terjadi jika hipotesis nol ditolak padahal itu benar. **Gagal menerima**.\n",
    "- **Kesalahan tipe II** terjadi jika hipotesis nol tidak ditolak padahal hipotesisnya salah. **Gagal menolak**.\n",
    "\n",
    "![](./image/7_1_type_of_errors_table.png)"
   ]
  },
  {
   "cell_type": "markdown",
   "id": "8730043b",
   "metadata": {},
   "source": [
    "### Mengidentifikasi Kesalahan Tipe I dan Tipe II [Contoh]\n",
    "\n",
    "- Batas USDA untuk kontaminasi salmonella pada ayam adalah $20\\%$.\n",
    "- Seorang pengawas daging melaporkan bahwa ayam yang diproduksi oleh perusahaan melebihi batas USDA.\n",
    "- Anda melakukan uji hipotesis untuk menentukan apakah klaim pengawas daging itu benar.\n",
    "- Kapan kesalahan tipe I atau tipe II akan terjadi?\n",
    "- Kesalahan mana yang lebih serius?"
   ]
  },
  {
   "cell_type": "markdown",
   "id": "fe675d45",
   "metadata": {},
   "source": [
    "### Mengidentifikasi Kesalahan Tipe I dan Tipe II [solusi]\n",
    "\n",
    "- Misalkan $p$ menyatakan proporsi ayam yang terkontaminasi.\n",
    "- Klaim pemeriksa daging adalah “lebih dari $20\\%$ terkontaminasi.”\n",
    "- Kita dapat menulis hipotesis nol dan alternatif sebagai:\n",
    "\n",
    "$\\left\\{ \\begin{array}{}\n",
    "       H_{0}:p \\le 0.2\\\\\n",
    "       H_{a}:p \\gt 0.2 \n",
    "     \\end{array}\\right.$\n",
    "\n",
    "- Dalam kasus ini, **hipotesis alternatif** merepresentasikan **klaim**.\n",
    "\n",
    "![](./image/7_1_ex_2_contaminated_chicken.png)\n",
    "\n",
    "- **Kesalahan tipe I** akan terjadi jika proporsi sebenarnya dari ayam yang terkontaminasi kurang dari atau sama dengan $0,2$, tetapi Anda menolak $H_{0}$ .\n",
    "- **Kesalahan tipe II** akan terjadi jika proporsi sebenarnya dari ayam yang terkontaminasi lebih besar dari $0,2$, tetapi Anda tidak menolak $H_{0}$.\n",
    "- Dengan kesalahan tipe I, Anda dapat menimbulkan masalah kesehatan dan merugikan penjualan produsen ayam yang sebenarnya memenuhi batas USDA.\n",
    "- Dengan kesalahan tipe II, Anda dapat mengizinkan ayam yang melebihi batas kontaminasi USDA untuk dijual ke konsumen.\n",
    "- Kesalahan tipe II lebih serius karena dapat mengakibatkan penyakit atau bahkan kematian."
   ]
  },
  {
   "cell_type": "markdown",
   "id": "c39bfffd",
   "metadata": {},
   "source": [
    "### Tingkat Signifikansi\n",
    "\n",
    "- Kita akan menolak hipotesis nol ketika statistik sampel dari distribusi sampling tidak biasa.\n",
    "- Kita telah mengidentifikasi peristiwa yang tidak biasa sebagai peristiwa yang terjadi dengan probabilitas $0,05$ atau kurang.\n",
    "- Saat uji statistik digunakan, peristiwa yang tidak biasa terkadang diharuskan memiliki probabilitas sebesar $0,10$ atau kurang, $0,05$ atau kurang, atau $0,01$ atau kurang.\n",
    "- Karena ada variasi dari satu sampel ke sampel lainnya, selalu ada kemungkinan bahwa Anda akan menolak hipotesis nol yang sebenarnya benar.\n",
    "- Dengan kata lain, meskipun hipotesis nol benar, statistik sampel Anda ditentukan sebagai kejadian yang tidak biasa dalam distribusi sampling.\n",
    "- Kita dapat mengurangi kemungkinan terjadinya hal ini dengan menurunkan **tingkat signifikansi**."
   ]
  },
  {
   "cell_type": "markdown",
   "id": "483707eb",
   "metadata": {},
   "source": [
    "### Tingkat Signifikansi: Definisi\n",
    "\n",
    "- Dalam uji hipotesis, tingkat signifikansi adalah probabilitas maksimum yang diperbolehkan untuk membuat **kesalahan tipe I**. Itu dilambangkan dengan $\\alpha$, huruf Yunani huruf kecil **alpha**.\n",
    "- Probabilitas **kesalahan tipe II** dilambangkan dengan $\\beta$, huruf Yunani kecil **beta**.\n",
    "\n",
    "- Dengan menetapkan tingkat signifikansi pada nilai kecil, kami mengatakan bahwa Anda ingin kemungkinan menolak hipotesis nol yang benar menjadi kecil.\n",
    "- Tiga tingkat signifikansi yang umum digunakan adalah $\\alpha = 0.10$, $\\alpha = 0.05$, dan $\\alpha = 0.01$.\n",
    "- Saat kita menurunkan $\\alpha$, kita cenderung meningkatkan $\\beta$."
   ]
  },
  {
   "cell_type": "markdown",
   "id": "b1aa1009",
   "metadata": {},
   "source": [
    "### Uji Statistik dan Nilai $P$\n",
    "\n",
    "- Setelah menyatakan hipotesis nol dan alternatif dan menentukan tingkat signifikansi, langkah selanjutnya dalam uji hipotesis adalah mendapatkan sampel acak dari populasi dan menghitung statistik sampel ( seperti $\\bar{x}$, $\\hat {p}$, atau $s^{2}$) sesuai dengan parameter dalam hipotesis nol (seperti $\\mu$, $p$, atau $\\sigma^{2}$) .\n",
    "- Contoh statistik ini disebut **statistik uji**.\n",
    "- Dengan asumsi bahwa hipotesis nol benar, statistik uji kemudian diubah menjadi **statistik uji standar**, seperti $z$, $t$, atau $x^{2}$ .\n",
    "- Statistik uji standar digunakan dalam membuat keputusan tentang hipotesis nol.\n",
    "- Jika hipotesis nol benar, maka **$P$-nilai** (atau **nilai probabilitas**) dari uji hipotesis adalah probabilitas mendapatkan statistik sampel dengan nilai ekstrim atau lebih ekstrim dari ditentukan dari data sampel.\n",
    "- Nilai $P$ dari uji hipotesis bergantung pada sifat pengujian.\n",
    "- Ada tiga jenis pengujian hipotesis — **ekor kiri**, **ekor kanan**, dan **ekor dua**.\n",
    "- Jenis pengujian bergantung pada lokasi wilayah distribusi sampel yang mendukung penolakan $H_{0}$.\n",
    "- Wilayah ini ditunjukkan oleh hipotesis alternatif.\n",
    "\n",
    "### Uji Statistik dan Nilai $P$\n",
    "\n",
    "1. Jika **hipotesis alternatif** $H_{a}$ berisi simbol pertidaksamaan **kurang dari** ($\\lt$), maka uji hipotesisnya adalah **uji arah kiri**.\n",
    "\n",
    "![](./image/7_1_left_tailed_test_plot.png)\n",
    "\n",
    "2. Jika **hipotesis alternatif** $H_{a}$ berisi simbol pertidaksamaan **lebih besar dari** ($\\gt$), maka uji hipotesisnya adalah **uji arah kanan**.\n",
    "\n",
    "![](./image/7_1_right_tailed_test_plot.png)\n",
    "\n",
    "3. Jika **hipotesis alternatif** $H_{a}$ berisi simbol **tidak sama dengan** ($\\ne$), maka uji hipotesis adalah **uji dua sisi**. Dalam pengujian dua sisi, setiap ekor memiliki luas $\\frac{1}{2}P$.\n",
    "\n",
    "![](./image/7-1_two_tailed_test_plot.png)\n",
    "\n",
    "#### Bagaimana cara menafsirkan\n",
    "\n",
    "- Semakin kecil nilai-$P$ tes, semakin banyak bukti untuk menolak hipotesis nol.\n",
    "- Nilai $P$ yang sangat kecil menunjukkan peristiwa yang tidak biasa.\n",
    "- Namun, bahkan nilai $P$ yang sangat rendah tidak merupakan bukti bahwa hipotesis nol salah, hanya saja mungkin salah."
   ]
  },
  {
   "cell_type": "markdown",
   "id": "3d433736",
   "metadata": {},
   "source": [
    "### Mengidentifikasi Sifat Uji Hipotesis [contoh 3]\n",
    "\n",
    "Untuk setiap klaim, nyatakan $H_{0}$ dan $H_{a}$ dalam kata dan simbol. Kemudian tentukan apakah uji hipotesis tersebut merupakan uji sisi kiri, uji sisi kanan, atau uji dua sisi. Buat sketsa distribusi sampling normal dan arsir area untuk nilai $P$.\n",
    "\n",
    "- Q1: Sebuah sekolah mengumumkan bahwa proporsi siswanya yang terlibat dalam setidaknya satu kegiatan ekstrakurikuler adalah $61\\%$.\n",
    "- Q2: Dealer mobil mengumumkan bahwa waktu rata-rata untuk mengganti oli adalah kurang dari $15$ menit."
   ]
  },
  {
   "cell_type": "markdown",
   "id": "0df4aea7",
   "metadata": {},
   "source": [
    "### Mengidentifikasi Sifat Uji Hipotesis [solusi]\n",
    "\n",
    "#### Q1: Sebuah sekolah mengumumkan bahwa proporsi siswanya yang terlibat dalam setidaknya satu kegiatan ekstrakurikuler adalah $61\\%$.\n",
    "\n",
    "- Proporsi siswa yang terlibat dalam setidaknya satu kegiatan ekstrakurikuler adalah $61\\%$.\n",
    "   - $H_{0} = 0,61$\n",
    "\n",
    "- Proporsi siswa yang terlibat dalam setidaknya satu kegiatan ekstrakurikuler bukanlah $61\\%$.\n",
    "   - $H_{a} \\ne 0.61$\n",
    "  \n",
    "- Karena $H_{a}$ berisi simbol $\\ne$, pengujiannya adalah pengujian hipotesis dua sisi.\n",
    "- Gambar di bawah menunjukkan distribusi sampel normal dengan area yang diarsir untuk nilai $P$.\n",
    "\n",
    "![](./image/7_1_ex_3_q_1_p_value_plut.png)\n",
    "\n",
    "#### Q2: Dealer mobil mengumumkan bahwa waktu rata-rata untuk mengganti oli adalah kurang dari $15$ menit.\n",
    "\n",
    "- Waktu rata-rata untuk penggantian oli lebih besar dari atau sama dengan $15$ menit.\n",
    "   - $H_{0}: \\mu \\ge 15$\n",
    "\n",
    "- Waktu rata-rata untuk mengganti oli kurang dari $15$ menit.\n",
    "   - $H_{a}: \\mu \\lt 15$\n",
    "  \n",
    "- Karena $H_{a}$ berisi simbol $\\lt$, pengujiannya adalah pengujian hipotesis arah kiri.\n",
    "- Gambar di bawah menunjukkan distribusi sampel normal dengan area yang diarsir untuk nilai $P$.\n",
    "\n",
    "![](./image/7_1_ex_3_q_2_p_value_plot.png)"
   ]
  },
  {
   "cell_type": "markdown",
   "id": "808e35fe",
   "metadata": {},
   "source": [
    "### Membuat Keputusan dan Menafsirkan Keputusan\n",
    "\n",
    "- Untuk menyimpulkan uji hipotesis, kami membuat keputusan dan menafsirkan keputusan itu.\n",
    "- Untuk setiap uji hipotesis, ada dua hasil yang mungkin:\n",
    "   1. menolak hipotesis nol atau\n",
    "   2. menerima (gagal menolak) hipotesis nol.\n",
    "  \n",
    "- Untuk menggunakan nilai $P$ untuk membuat keputusan dalam uji hipotesis, bandingkan nilai $P$ dengan $\\alpha$.\n",
    "   - Jika $P \\le \\alpha$, maka tolak $H_{0}$.\n",
    "   - Jika $P \\gt \\alpha$, maka terima (gagal ditolak) $H_{0}$.\n",
    "  \n",
    "- Menerima (gagal menolak) hipotesis nol tidak berarti bahwa kita telah menerima hipotesis nol itu benar. Ini hanya berarti bahwa tidak ada cukup bukti untuk menolak hipotesis nol.\n",
    "- Untuk mendukung klaim, nyatakan sehingga menjadi hipotesis alternatif.\n",
    "- Untuk menolak suatu klaim, nyatakan sehingga menjadi hipotesis nol.\n",
    "\n",
    "![](./image/7_1_h0_table.png)"
   ]
  },
  {
   "cell_type": "markdown",
   "id": "d666350a",
   "metadata": {},
   "source": [
    "### Membuat Keputusan dan Menafsirkan Keputusan [contoh 4]\n",
    "\n",
    "Anda melakukan uji hipotesis untuk setiap klaim. Bagaimana seharusnya Anda menginterpretasikan keputusan Anda jika Anda menolak $H_{0}$? Jika Anda gagal menolak $H_{0}$?\n",
    "\n",
    "- Q1: $H_{0}$ (Klaim): Sebuah sekolah mengumumkan bahwa proporsi siswanya yang terlibat dalam setidaknya satu kegiatan ekstrakurikuler adalah $61\\%$.\n",
    "- Q2: $H_{a}$ (Klaim): Sebuah dealer mobil mengumumkan bahwa waktu rata-rata untuk mengganti oli adalah kurang dari $15$ menit."
   ]
  },
  {
   "cell_type": "markdown",
   "id": "ed1000c3",
   "metadata": {},
   "source": [
    "### Membuat Keputusan dan Menafsirkan Keputusan [solusi]\n",
    "\n",
    "#### Q1: $H_{0}$ (Klaim): Sebuah sekolah mengumumkan bahwa proporsi siswanya yang terlibat dalam setidaknya satu kegiatan ekstrakurikuler adalah $61\\%$.\n",
    "\n",
    "- Klaim diwakili oleh $H_{0}$.\n",
    "- Jika Anda menolak $H_{0}$, maka Anda harus menyimpulkan \"ada cukup bukti untuk menolak klaim sekolah bahwa proporsi siswa yang terlibat dalam setidaknya satu kegiatan ekstrakurikuler adalah $61\\%$.\"\n",
    "- Jika Anda gagal menolak $H_{0}$, maka Anda harus menyimpulkan “tidak cukup bukti untuk menolak klaim sekolah bahwa proporsi siswa yang terlibat dalam setidaknya satu kegiatan ekstrakurikuler adalah $61\\%$.”\n",
    "\n",
    "#### Q2: $H_{a}$ (Klaim): Sebuah dealer mobil mengumumkan bahwa waktu rata-rata untuk mengganti oli adalah kurang dari $15$ menit.\n",
    "\n",
    "- Klaim diwakili oleh $H_{a}$, jadi hipotesis nolnya adalah \"waktu rata-rata untuk penggantian oli lebih besar dari atau sama dengan 15 menit.\"\n",
    "- Jika kita menolak $H_{0}$, maka kita harus menyimpulkan \"ada cukup bukti untuk mendukung klaim dealer bahwa waktu rata-rata untuk mengganti oli adalah kurang dari $15$ menit.\"\n",
    "- Jika kita gagal menolak $H_{0}$, maka kita harus menyimpulkan “tidak ada cukup bukti untuk mendukung klaim dealer bahwa waktu rata-rata untuk mengganti oli adalah kurang dari $15$ menit.”"
   ]
  },
  {
   "cell_type": "markdown",
   "id": "fa2cbde2",
   "metadata": {},
   "source": [
    "### Steps for Hypothesis Testing\n",
    "\n",
    "1. Nyatakan klaim secara matematis dan verbal. Mengidentifikasi hipotesis nol dan alternatif.\n",
    "   - $H_0 = ?$, $H_a = ?$\n",
    "  \n",
    "1. Tentukan tingkat signifikansi.\n",
    "   - $\\alpha = ?$\n",
    "  \n",
    "3. Tentukan distribusi sampel standar dan buat sketsa grafiknya.\n",
    "![](./image/7_1_standardized_sampling_distribution.png)\n",
    "\n",
    "4. Hitung statistik uji dan statistik uji standar yang sesuai. Tambahkan ke sketsa Anda.\n",
    "![](./image/7_1_standardized_test_statistics.png)\n",
    "\n",
    "5. Temukan nilai $P$.\n",
    "6. Gunakan aturan keputusan ini.\n",
    "![](./image/7_1_decision_rule.png)\n",
    "\n",
    "7. Tulis pernyataan untuk menginterpretasikan keputusan dalam konteks klaim awal."
   ]
  },
  {
   "cell_type": "markdown",
   "id": "f6508c61",
   "metadata": {},
   "source": [
    "### Strategi Pengujian Hipotesis\n",
    "\n",
    "- Strategi yang akan kita gunakan dalam pengujian hipotesis harus bergantung pada apakah kita mencoba untuk mendukung atau menolak suatu klaim.\n",
    "- Ingatlah bahwa kita tidak dapat menggunakan uji hipotesis untuk mendukung klaim kita jika klaim kita adalah hipotesis nol.\n",
    "- Jadi, sebagai peneliti, untuk melakukan uji hipotesis dimana hasil yang mungkin akan mendukung klaim, kata klaim tersebut adalah hipotesis alternatif.\n",
    "- Untuk melakukan uji hipotesis dimana hasil yang mungkin akan menolak suatu klaim, kata sehingga klaim tersebut adalah hipotesis nol."
   ]
  },
  {
   "cell_type": "markdown",
   "id": "113f0b55",
   "metadata": {},
   "source": [
    "### Menulis Hipotesis [contoh 5]\n",
    "\n",
    "Tim peneliti medis sedang menyelidiki manfaat dari perawatan bedah baru. Salah satu klaimnya adalah waktu pemulihan rata-rata untuk pasien setelah pengobatan baru kurang dari $96$ jam.\n",
    "\n",
    "- Q1: Bagaimana Anda menulis hipotesis nol dan alternatif ketika Anda berada di tim peneliti dan ingin mendukung klaim tersebut?\n",
    "- Q2: Bagaimana Anda menulis hipotesis nol dan alternatif ketika Anda berada di tim lawan dan ingin menolak klaim?"
   ]
  },
  {
   "cell_type": "markdown",
   "id": "6aa59ef3",
   "metadata": {},
   "source": [
    "### Menulis Hipotesis [solusi]\n",
    "\n",
    "#### Q1\n",
    "\n",
    "Untuk menjawab pertanyaan tersebut, pertama-tama pikirkan konteks klaim tersebut. Karena Anda ingin mendukung klaim ini, buatlah hipotesis alternatif yang menyatakan bahwa waktu pemulihan rata-rata untuk pasien adalah kurang dari $96$ jam.\n",
    "Jadi, $H_a : \\mu < 96$ jam. Pelengkapnya, $H_0 : \\mu \\ge 96$ jam, akan menjadi\n",
    "hipotesis nol.\n",
    "- $H_0 : \\mu \\ge 96$\n",
    "- $H_a : \\mu < 96$ (Klaim)\n",
    "\n",
    "#### Q2\n",
    "\n",
    "Pertama pikirkan tentang konteks klaim. Sebagai peneliti lawan, Anda tidak ingin waktu pemulihan kurang dari $96$ jam. Karena Anda ingin menolak klaim ini, jadikan hipotesis nol. Jadi, $H_0 : \\mu \\le 96$ jam.\n",
    "Pelengkapnya, $H_a : \\mu > 96$ jam, akan menjadi hipotesis alternatif.\n",
    "- $H_0 : \\mu \\le 96$ (Klaim)\n",
    "- $H_a : \\mu > 96$"
   ]
  },
  {
   "cell_type": "markdown",
   "id": "aa50c32a",
   "metadata": {},
   "source": [
    "## Pengujian Hipotesis untuk Mean ($\\sigma$ Diketahui)"
   ]
  },
  {
   "cell_type": "markdown",
   "id": "47cc2b36",
   "metadata": {},
   "source": [
    "### Menggunakan Nilai-P untuk Membuat Keputusan\n",
    "\n",
    "Untuk menggunakan nilai $P$ untuk membuat keputusan dalam pengujian hipotesis, bandingkan nilai $P$ dengan $\\alpha$.\n",
    "\n",
    "1. Jika $P \\le \\alpha$, maka tolak $H_0$.\n",
    "2. Jika $P > \\alpha$, maka gagal untuk menolak $H_0$."
   ]
  },
  {
   "cell_type": "markdown",
   "id": "6be91832",
   "metadata": {},
   "source": [
    "### Menafsirkan $P$-Value [contoh 1]\n",
    "\n",
    "Nilai $P$ untuk uji hipotesis adalah $P = 0,0237$. Apa keputusan Anda ketika tingkat signifikansinya\n",
    "\n",
    "- Q1: $\\alpha = 0,05$ dan\n",
    "- Q2: $\\alpha = 0,01$"
   ]
  },
  {
   "cell_type": "markdown",
   "id": "9d91bf83",
   "metadata": {},
   "source": [
    "### Menafsirkan $P$-Value [solusi]\n",
    "\n",
    "1. Karena $0,0237 < $0,05, kita menolak hipotesis nol.\n",
    "2. Karena $0,0237 > $0,01, kita gagal menolak hipotesis nol.\n",
    "\n",
    "- Semakin rendah nilai $P$, semakin banyak bukti yang mendukung penolakan $H_0$.\n",
    "- Nilai $P$ memberi Anda tingkat signifikansi terendah di mana statistik sampel memungkinkan Anda menolak hipotesis nol."
   ]
  },
  {
   "cell_type": "markdown",
   "id": "0884885d",
   "metadata": {},
   "source": [
    "### Menemukan nilai $P$ untuk Pengujian Hipotesis\n",
    "\n",
    "Setelah menentukan statistik uji standar uji hipotesis dan area terkait statistik uji standar, lakukan salah satu langkah berikut untuk menemukan nilai $P$.\n",
    "\n",
    "1. Untuk pengujian arah kiri, $P =$ (Area di arah kiri).\n",
    "2. Untuk pengujian arah kanan, $P =$ (Area di arah kanan).\n",
    "3. Untuk uji dua sisi, $P = 2$ (Area dalam ekor statistik uji standar)."
   ]
  },
  {
   "cell_type": "markdown",
   "id": "ffbca4dc",
   "metadata": {},
   "source": [
    "### Menemukan Nilai-$P$ untuk Uji Ekor Kiri [contoh 2]\n",
    "\n",
    "Temukan nilai $P$ untuk uji hipotesis arah kiri dengan statistik uji standar $z = -2,23$. Putuskan apakah akan menolak $H_0$ ketika tingkat signifikansi adalah $\\alpha = 0.01$."
   ]
  },
  {
   "cell_type": "markdown",
   "id": "c03c2a72",
   "metadata": {},
   "source": [
    "### Menemukan Nilai $P$ untuk Uji Ekor Kiri [solusi]\n",
    "\n",
    "![](./image/7_2_ex_2_left_tailed_test.png)\n",
    "\n",
    "Gambar tersebut menunjukkan kurva normal baku dengan area yang diarsir di sebelah kiri $z = -2,23$. Untuk uji arah kiri,\n",
    "\n",
    "$P =$ (Area di ekor kiri).\n",
    "\n",
    "- Area yang sesuai dengan $z = -2.23$ adalah $0.0129$, yang merupakan area di ekor kiri.\n",
    "- Jadi, nilai $P$ untuk uji hipotesis arah kiri dengan statistik uji standar $z = -2,23$ adalah $P = 0,0129$.\n",
    "\n",
    "#### Penafsiran\n",
    "Karena nilai $P$ dari $0,0129$ lebih besar dari $0,01$, kami gagal menolak $H_0$."
   ]
  },
  {
   "cell_type": "markdown",
   "id": "daeaf252",
   "metadata": {},
   "source": [
    "from scipy import stats\n",
    "\n",
    "z = -2.23\n",
    "P = stats.norm.cdf(z)\n",
    "print(f'P: {P}')"
   ]
  },
  {
   "cell_type": "code",
   "execution_count": 10,
   "id": "516f64e2",
   "metadata": {},
   "outputs": [
    {
     "name": "stdout",
     "output_type": "stream",
     "text": [
      "P: 0.012873721438602014\n"
     ]
    }
   ],
   "source": [
    "from scipy import stats\n",
    "\n",
    "z = -2.23\n",
    "P = stats.norm.cdf(z)\n",
    "print(f'P: {P}')"
   ]
  },
  {
   "cell_type": "markdown",
   "id": "ee626761",
   "metadata": {},
   "source": [
    "### Menemukan Nilai-P untuk Uji Dua Sisi [contoh 3]\n",
    "\n",
    "Temukan nilai $P$ untuk uji hipotesis dua sisi dengan statistik uji standar $z = 2,14$. Putuskan apakah akan menolak $H_0$ ketika tingkat signifikansi adalah $\\alpha = 0.05$."
   ]
  },
  {
   "cell_type": "markdown",
   "id": "6a074a27",
   "metadata": {},
   "source": [
    "### Menemukan Nilai-P untuk Uji Dua Arah [solusi]\n",
    "\n",
    "![](./image/7_2_ex_3_two_tailed_test.png)\n",
    "\n",
    "Gambar tersebut menunjukkan kurva normal standar dengan area yang diarsir di sebelah kiri $z = -2.14$ dan di sebelah kanan $z = 2.14$. Untuk uji dua sisi,\n",
    "\n",
    "$P = 2$ (Area di belakang statistik uji standar).\n",
    "\n",
    "- Area yang sesuai dengan $z = 2,14$ adalah $0,9838$.\n",
    "- Area di ekor kanan adalah $1 - 0,9838 = 0,0162$.\n",
    "- Jadi, nilai $P$ untuk uji hipotesis dua sisi dengan statistik uji standar $z = 2.14$ adalah $P = 2 \\times (0.0162) = 0.0324$.\n",
    "\n",
    "#### Penafsiran\n",
    "Karena $P$-nilai $0.0324$ kurang dari $0.05$, Anda menolak $H_0$ ."
   ]
  },
  {
   "cell_type": "code",
   "execution_count": 11,
   "id": "fa5bc016",
   "metadata": {},
   "outputs": [
    {
     "name": "stdout",
     "output_type": "stream",
     "text": [
      "P: 0.03235476674433216\n"
     ]
    }
   ],
   "source": [
    "from scipy import stats\n",
    "\n",
    "z = - 2.14\n",
    "P = 2 * stats.norm.cdf(z)\n",
    "print(f'P: {P}')"
   ]
  },
  {
   "cell_type": "markdown",
   "id": "49a299c3",
   "metadata": {},
   "source": [
    "### Menggunakan $P$-values untuk $z$-Test\n",
    "\n",
    "- Uji $z$ untuk rata-rata $\\mu$ adalah uji statistik untuk rata-rata populasi.\n",
    "- Statistik uji adalah rata-rata sampel $\\bar{x}$.\n",
    "- Statistik uji standar adalah:\n",
    "\n",
    "$z = \\frac{\\bar{x} - \\mu}{\\sigma / \\sqrt{n}}$\n",
    "\n",
    "- ketika kondisi ini terpenuhi.\n",
    "   1. Sampelnya acak.\n",
    "   2. Setidaknya salah satu dari berikut ini benar: Populasi terdistribusi secara normal atau $n \\ge 30$.\n",
    "\n",
    "- Ingatlah bahwa $\\frac{\\sigma}{\\sqrt{n}}$ adalah kesalahan standar rata-rata, $\\sigma_\\bar{x}$ ."
   ]
  },
  {
   "cell_type": "markdown",
   "id": "4ff86758",
   "metadata": {},
   "source": [
    "### Panduan: Menggunakan $P$-Nilai untuk $z$-Test untuk Rata-Rata $\\mu$ ($\\sigma$ Dikenal)\n",
    "\n",
    "1. Verifikasi bahwa $\\sigma$ diketahui, sampel acak, dan apakah populasi terdistribusi normal atau $n \\ge 30$.\n",
    "\n",
    "2. Nyatakan klaim secara matematis dan verbal. Mengidentifikasi hipotesis nol dan alternatif.\n",
    "   - Nyatakan $H_0$ dan $H_a$\n",
    "  \n",
    "3. Tentukan tingkat signifikansi.\n",
    "   - Identifikasi $\\alpha$\n",
    "  \n",
    "4. Temukan statistik uji standar.\n",
    "   - $z = \\frac{\\bar{x}-\\mu}{\\sigma/\\sqrt{n}}$\n",
    "  \n",
    "5. Temukan area yang sesuai dengan $z$.\n",
    "   - Gunakan ```SciPy.stats```\n",
    "  \n",
    "6. Temukan nilai $P$.\n",
    "   - Untuk pengujian arah kiri, $P$ = (Area di arah kiri).\n",
    "   - Untuk pengujian arah kanan, $P$ = (Area di arah kanan).\n",
    "   - Untuk uji dua sisi, $P$ = 2 (Area dalam ekor statistik uji standar).\n",
    "  \n",
    "7. Membuat keputusan untuk menolak atau gagal menolak hipotesis nol.\n",
    "   - Jika $P \\le \\alpha$, maka tolak $H_0$. Jika tidak, gagal untuk menolak $H_0$.\n",
    "\n",
    "8. Menafsirkan keputusan dalam konteks klaim awal."
   ]
  },
  {
   "cell_type": "markdown",
   "id": "b887779f",
   "metadata": {},
   "source": [
    "### Pengujian Hipotesis Menggunakan $P$-Value [contoh 4]\n",
    "\n",
    "- Dalam balap mobil, pit stop adalah tempat kendaraan balap berhenti untuk ban baru, bahan bakar, perbaikan, dan penyesuaian mekanis lainnya.\n",
    "- Efisiensi kru pit yang melakukan penyesuaian ini dapat memengaruhi hasil balapan.\n",
    "- Seorang kru pit mengklaim bahwa waktu pit stop rata-rata (untuk ban dan bahan bakar baru $4$) kurang dari $13$ detik.\n",
    "- Sampel acak $32$ waktu pit stop memiliki rata-rata sampel $12,9$ detik.\n",
    "- Asumsikan standar deviasi populasi adalah $0,19$ detik.\n",
    "- Apakah ada cukup bukti untuk mendukung klaim pada $\\alpha = 0.01$? Gunakan nilai $P$."
   ]
  },
  {
   "cell_type": "markdown",
   "id": "288fedfe",
   "metadata": {},
   "source": [
    "### Pengujian Hipotesis Menggunakan $P$-Value [solusi]\n",
    "\n",
    "- Karena $\\sigma$ diketahui ($\\sigma = 0.19$), sampelnya acak, dan $n = 32 \\ge 30$, kita dapat menggunakan $z$-test.\n",
    "- Klaimnya adalah \"rata-rata waktu pit stop kurang dari $13$ detik.\" Jadi, hipotesis nol dan alternatifnya adalah:\n",
    "   - $H_0 : \\mu \\ge 13$ detik\n",
    "   - $H_a : \\mu < 13$ detik. (Mengeklaim)\n",
    "- Tingkat signifikansi adalah $\\alpha = 0.01$. Statistik uji standar adalah:\n",
    "   - $z = \\frac{\\bar{x}-\\mu}{\\sigma/\\sqrt{n}} = \\frac{12.9 - 13}{0.19/\\sqrt{32}} \\approx -2.98$\n",
    "- Area yang sesuai dengan $z = -2.98$ adalah $0.0014$ (kita dapat menggunakan Scipy).\n",
    "- Karena pengujian ini adalah pengujian arah kiri, nilai $P$ sama dengan luas di sebelah kiri $z = -2,98$, seperti yang ditunjukkan pada gambar. Jadi, $P = 0,0014$.\n",
    "- Karena nilai $P$-kurang dari $\\alpha = 0.01$, kami menolak hipotesis nol.\n",
    "\n",
    "![](./image/7_2_ex_4_lest_tailed_test.png)\n",
    "\n",
    "#### Penafsiran\n",
    "Ada cukup bukti pada tingkat signifikansi $1\\%$ untuk mendukung klaim bahwa waktu pit stop rata-rata kurang dari $13$ detik."
   ]
  },
  {
   "cell_type": "code",
   "execution_count": 12,
   "id": "487e79e5",
   "metadata": {},
   "outputs": [
    {
     "name": "stdout",
     "output_type": "stream",
     "text": [
      "z: -2.977291710259137\n",
      "P: 0.0014540358484991462\n"
     ]
    }
   ],
   "source": [
    "import math\n",
    "from scipy import stats\n",
    "\n",
    "sigma = 0.19\n",
    "n = 32\n",
    "mu = 13\n",
    "x_bar = 12.9\n",
    "alpha = 0.01\n",
    "\n",
    "z = (x_bar - mu) / (sigma / math.sqrt(n))\n",
    "print(f'z: {z}')\n",
    "\n",
    "P = stats.norm.cdf(z)\n",
    "print(f'P: {P}')"
   ]
  },
  {
   "cell_type": "markdown",
   "id": "0ef3deec",
   "metadata": {},
   "source": [
    "### Pengujian Hipotesis Menggunakan Nilai-P [contoh 5]\n",
    "\n",
    "- Menurut sebuah penelitian, rata-rata biaya operasi bariatrik (penurunan berat badan) adalah $\\$21.500$.\n",
    "- Anda pikir informasi ini tidak benar.\n",
    "- Anda secara acak memilih pasien operasi bariatrik $25$ dan menemukan bahwa biaya rata-rata untuk operasi mereka adalah $\\$20.695$.\n",
    "- Dari studi sebelumnya, deviasi standar populasi diketahui $\\$2.250$ dan populasi terdistribusi secara normal.\n",
    "- Apakah ada cukup bukti untuk mendukung klaim Anda pada $\\alpha = 0,05$? Gunakan nilai $P$."
   ]
  },
  {
   "cell_type": "markdown",
   "id": "f6192939",
   "metadata": {},
   "source": [
    "### Pengujian Hipotesis Menggunakan [Solusi] Nilai-P\n",
    "\n",
    "- Karena $\\sigma$ diketahui ($\\sigma = \\$2,250$), sampelnya acak, dan populasi terdistribusi secara normal, Anda dapat menggunakan uji $z$.\n",
    "- Klaimnya adalah \"rata-ratanya berbeda dari $\\$21.500$.\" Jadi, hipotesis nol dan alternatifnya adalah:\n",
    "   - $H_0 : \\mu = \\$21.500$\n",
    "   - $H_a : \\mu \\ne \\$21,500$. (Klaim)\n",
    "- Tingkat signifikansi adalah $\\alpha = 0.05$. Statistik uji standar adalah:\n",
    "   - $z = \\frac{\\bar{x}-\\mu}{\\sigma/\\sqrt{n}} = \\frac{20,695 - 21,500}{2,250/\\sqrt{25}} \\approx -1.79$\n",
    "- Area yang sesuai dengan $z = -1.79$ adalah $0.0367$ (kita dapat menggunakan Scipy).\n",
    "- Karena pengujian adalah pengujian dua sisi, nilai $P$- sama dengan dua kali luas di sebelah kiri $z = -1,79$, seperti yang ditunjukkan pada gambar. Jadi:\n",
    "   - $P = 2 \\times (0,0367) = 0,0734$.\n",
    "- Karena nilai $P$ lebih besar dari $\\alpha = 0,05$, Anda gagal menolak hipotesis nol.\n",
    "\n",
    "![](./image/7_2_ex_5_two_tailed_test.png)\n",
    "\n",
    "#### Penafsiran\n",
    "Tidak ada cukup bukti pada tingkat signifikansi $5\\%$ untuk mendukung klaim bahwa biaya rata-rata operasi bariatrik berbeda dari $\\$21.500$."
   ]
  },
  {
   "cell_type": "code",
   "execution_count": 13,
   "id": "c0bd0ca8",
   "metadata": {},
   "outputs": [
    {
     "name": "stdout",
     "output_type": "stream",
     "text": [
      "z: -1.788888888888889\n",
      "P: 0.07363271157315165\n"
     ]
    }
   ],
   "source": [
    "import math\n",
    "from scipy import stats\n",
    "\n",
    "sigma = 2250\n",
    "n = 25\n",
    "mu = 21500\n",
    "x_bar = 20695\n",
    "alpha = 0.05\n",
    "\n",
    "z = (x_bar - mu) / (sigma / math.sqrt(n))\n",
    "print(f'z: {z}')\n",
    "\n",
    "P = 2 * stats.norm.cdf(z)\n",
    "print(f'P: {P}')"
   ]
  },
  {
   "cell_type": "markdown",
   "id": "a2d2d940",
   "metadata": {},
   "source": [
    "### Daerah Penolakan dan Nilai Kritis\n",
    "\n",
    "- Metode lain untuk memutuskan apakah akan menolak hipotesis nol adalah dengan menentukan apakah statistik uji standar termasuk dalam rentang nilai yang disebut **daerah penolakan** dari distribusi sampling.\n",
    "- Daerah penolakan (atau daerah kritis) dari distribusi sampling adalah rentang nilai yang hipotesis nolnya tidak mungkin.\n",
    "- Jika statistik uji standar jatuh di wilayah ini, maka hipotesis nol ditolak.\n",
    "- Nilai kritis $z_0$ memisahkan wilayah penolakan dari wilayah non-penolakan."
   ]
  },
  {
   "cell_type": "markdown",
   "id": "299e44c4",
   "metadata": {},
   "source": [
    "### Menemukan Nilai Kritis dalam Distribusi Normal Standar [pedoman]\n",
    "\n",
    "1. Tentukan tingkat signifikansi $\\alpha$.\n",
    "2. Tentukan apakah pengujiannya berekor kiri, berekor kanan, atau berekor dua.\n",
    "3. Temukan nilai kritis $z_0$ . Ketika uji hipotesis adalah:\n",
    "   - *ekor kiri*, temukan skor $z$ yang sesuai dengan area seluas $\\alpha$.\n",
    "   - *ekor kanan*, temukan skor $z$ yang sesuai dengan luas $1 - \\alpha$.\n",
    "   - *dua sisi*, temukan skor $z$ yang sesuai dengan $\\frac{1}{2}\\alpha$ dan $1 - \\frac{1}{2}\\alpha$.\n",
    "4. Buat sketsa distribusi normal baku. Gambar garis vertikal pada setiap titik kritis\n",
    "nilai dan bayangan daerah penolakan. (Lihat angka di sebelah kiri.)\n",
    "\n",
    "Perhatikan bahwa statistik uji standar yang termasuk dalam wilayah penolakan dianggap sebagai **peristiwa yang tidak biasa**.\n",
    "\n",
    "| ![](./image/7_2_left_tailed_test.png) | ![](./image/7_2_right_tailed_test.png) | \n",
    "|:-:|:-:|\n",
    "\n",
    "![](./image/7_2_two_tailed_test.png)"
   ]
  },
  {
   "cell_type": "markdown",
   "id": "75ee79e4",
   "metadata": {},
   "source": [
    "### Menemukan Nilai Kritis untuk Uji Ekor Kiri [contoh 7]\n",
    "\n",
    "Temukan nilai kritis dan wilayah penolakan untuk pengujian arah kiri dengan $\\alpha = 0.014$."
   ]
  },
  {
   "cell_type": "markdown",
   "id": "627237a6",
   "metadata": {},
   "source": [
    "### Menemukan Nilai Kritis untuk Uji Ekor Kiri [solusi]\n",
    "\n",
    "- Angka tersebut menunjukkan kurva normal standar dengan area yang diarsir sebesar $0,01$ di bagian kiri.\n",
    "- Skor $z$ yang paling dekat dengan area $0,01$ adalah $-2,33$ (kita bisa menggunakan Scipy).\n",
    "- Jadi, nilai kritisnya adalah\n",
    "   - $z_0 = -2,33$\n",
    "- Wilayah penolakan berada di sebelah kiri nilai kritis ini.\n",
    "\n",
    "![](./image/7_2_ex_7_left_tailed_test.png)"
   ]
  },
  {
   "cell_type": "markdown",
   "id": "10687eb5",
   "metadata": {},
   "source": [
    "### Menemukan Nilai Kritis untuk Uji Dua Sisi [contoh 8]\n",
    "\n",
    "Temukan nilai kritis dan daerah penolakan untuk pengujian dua sisi dengan $\\alpha = 0.05$."
   ]
  },
  {
   "cell_type": "markdown",
   "id": "d992428f",
   "metadata": {},
   "source": [
    "### Menemukan Nilai Kritis untuk Uji Dua Arah [solusi]\n",
    "\n",
    "- Gambar menunjukkan kurva normal standar dengan area yang diarsir $\\frac{1}{2} \\alpha = 0.025$ di setiap ekor.\n",
    "- Luas di sebelah kiri $-z_0$ adalah $\\frac{1}{2} \\alpha = 0.025$, dan luas di sebelah kiri $z_0$ adalah $1 - \\frac{1}{2} \\alpha = 0,975$.\n",
    "- Skor $z$ yang sesuai dengan area $0,025$ dan $0,975$ masing-masing adalah $-1,96$ dan $1,96$.\n",
    "- Jadi, nilai kritisnya adalah $-z_0 = -1.96$ dan $z_0 = 1.96$.\n",
    "- Daerah penolakan ada di sebelah kiri $-1,96$ dan di sebelah kanan $1,96$.\n",
    "\n",
    "![](./image/7_2_ex_8_two_tailed_test.png)"
   ]
  },
  {
   "cell_type": "markdown",
   "id": "832f2961",
   "metadata": {},
   "source": [
    "### Menggunakan Daerah Penolakan untuk $z$-Test\n",
    "\n",
    "- Untuk menggunakan wilayah penolakan untuk melakukan uji hipotesis, hitung statistik uji standar $z$.\n",
    "- Jika statistik uji standar $z$:\n",
    "   1. berada di wilayah penolakan, lalu tolak $H_0$.\n",
    "   2. tidak berada di wilayah penolakan, maka gagal menolak $H_0$.\n",
    "  \n",
    "![](./image/72_decision_rule_based_on_rejection_region.png)\n",
    "  \n",
    "Ingat, gagal menolak hipotesis nol tidak berarti bahwa Anda telah menerima hipotesis nol sebagai benar. Ini hanya berarti bahwa tidak ada cukup bukti untuk menolak hipotesis nol."
   ]
  },
  {
   "cell_type": "markdown",
   "id": "2006c457",
   "metadata": {},
   "source": [
    "### Menggunakan Daerah Penolakan untuk $z$-Test untuk Rata-Rata $\\mu$ ($\\sigma$ Diketahui) [panduan]\n",
    "\n",
    "1. Verifikasi bahwa $\\sigma$ diketahui, sampel acak, dan apakah populasi terdistribusi normal atau $n \\ge 30$.\n",
    "\n",
    "2. Nyatakan klaim secara matematis dan verbal. Mengidentifikasi hipotesis nol dan alternatif.\n",
    "   - Nyatakan $H_0$ dan $H_a$\n",
    "  \n",
    "3. Tentukan tingkat signifikansi.\n",
    "   - Identifikasi $\\alpha$\n",
    "\n",
    "4. Tentukan nilai kritisnya (kita bisa menggunakan Scipy)\n",
    "\n",
    "5. Tentukan daerah penolakan.\n",
    "\n",
    "6. Temukan statistik uji standar dan buat sketsa distribusi sampling.\n",
    "   - $z = \\frac{\\bar{x} - \\mu}{\\sigma / \\sqrt{n}}$\n",
    "\n",
    "7. Membuat keputusan untuk menolak atau gagal menolak hipotesis nol.\n",
    "   - Jika $z$ berada di wilayah penolakan, maka tolak $H_0$. Jika tidak, gagal untuk menolak $H_0$.\n",
    "  \n",
    "8. Menafsirkan keputusan dalam konteks klaim awal."
   ]
  },
  {
   "cell_type": "markdown",
   "id": "dac51e87",
   "metadata": {},
   "source": [
    "### Pengujian Hipotesis Menggunakan Daerah Penolakan [contoh 9]\n",
    "\n",
    "- Karyawan di perusahaan konstruksi dan pertambangan mengklaim bahwa gaji rata-rata insinyur mesin perusahaan kurang dari gaji salah satu pesaingnya, yaitu $\\$68.000$.\n",
    "- Sampel acak dari insinyur mesin perusahaan senilai $20$ memiliki gaji rata-rata $\\$66.900$.\n",
    "- Asumsikan deviasi standar populasi adalah $\\$5.500$ dan populasi terdistribusi secara normal.\n",
    "- Pada $\\alpha = 0.05$, uji klaim karyawan."
   ]
  },
  {
   "cell_type": "markdown",
   "id": "81e07bd4",
   "metadata": {},
   "source": [
    "### Pengujian Hipotesis Menggunakan Daerah Penolakan [solusi]\n",
    "\n",
    "- Karena $\\sigma$ diketahui $\\sigma = \\$5,500$, sampelnya acak, dan populasi terdistribusi secara normal, Anda dapat menggunakan uji $z$.\n",
    "- Klaimnya adalah \"gaji rata-rata kurang dari $\\$68.000$.\"\n",
    "- Jadi, hipotesis nol dan alternatifnya dapat ditulis sebagai:\n",
    "   - $H_0 : \\mu \\ge \\$68.000$\n",
    "   - $H_a : \\mu < \\$68.000$. (Mengeklaim)\n",
    "- Karena tesnya adalah tes arah kiri dan tingkat signifikansinya adalah $\\alpha = 0.05$, nilai kritisnya adalah $z_0 = -1.645$ dan wilayah penolakannya adalah $z < -1.645$.\n",
    "- Statistik uji standar adalah:\n",
    "   - $z = \\frac{\\bar{x} - \\mu}{\\sigma / \\sqrt{n}} = \\frac{66900 - 68000}{5500 / \\sqrt{20}} \\approx -0.89$\n",
    "  \n",
    "![](./image/7_2_ex_9_left_tailed_test.png)\n",
    "\n",
    "- Gambar menunjukkan lokasi daerah penolakan dan statistik uji standar $z$.\n",
    "- Karena $z$ tidak berada dalam wilayah penolakan $\\alpha = 0.05$, kita gagal menolak hipotesis nol.\n",
    "\n",
    "#### Penafsiran\n",
    "- Tidak ada cukup bukti pada tingkat signifikansi $5\\%$ untuk mendukung klaim karyawan bahwa gaji rata-rata kurang dari $\\$68.000$.\n",
    "- Pastikan Anda memahami keputusan yang dibuat dalam contoh ini. Meskipun sampel kami memiliki rata-rata $\\$66.900$, kami tidak dapat (pada tingkat signifikansi $5\\%$) mendukung klaim bahwa rata-rata gaji semua insinyur mekanik kurang dari $\\$68.000$.\n",
    "- Perbedaan antara statistik pengujian Anda ($\\bar{x} = \\$66.900$) dan rata-rata yang dihipotesiskan ($\\mu = \\$68.000$) mungkin karena kesalahan pengambilan sampel."
   ]
  },
  {
   "cell_type": "markdown",
   "id": "bd9c7710",
   "metadata": {},
   "source": [
    "#### Pengujian Hipotesis Menggunakan Daerah Penolakan [contoh 10]\n",
    "\n",
    "- Seorang peneliti mengklaim bahwa rata-rata biaya tahunan membesarkan anak (usia $2$ ke bawah) oleh keluarga suami-istri di AS adalah $\\$13.960$.\n",
    "- Dalam sampel acak keluarga suami-istri di A.S., rata-rata biaya tahunan untuk membesarkan anak (usia $2$ ke bawah) adalah $\\$13.725$.\n",
    "- Sampel terdiri dari $500$ anak-anak.\n",
    "- Asumsikan simpangan baku populasi adalah $\\$2,345$.\n",
    "- Pada $\\alpha = 0.10$, apakah ada cukup bukti untuk menolak klaim?"
   ]
  },
  {
   "cell_type": "markdown",
   "id": "1c323832",
   "metadata": {},
   "source": [
    "#### Pengujian Hipotesis Menggunakan Daerah Penolakan [solusi]\n",
    "\n",
    "- Karena $\\sigma$ diketahui ($\\sigma = \\$2,345$), sampelnya acak, dan $n = 500 \\ge 30$, kita dapat menggunakan $z$-test.\n",
    "- Klaimnya adalah \"biaya tahunan rata-rata adalah $\\$13.960$.\"\n",
    "- Jadi, hipotesis nol dan alternatifnya adalah:\n",
    "   - $H_0 : \\mu = \\$13,960$ (Klaim)\n",
    "   - $H_a : \\mu \\ne \\$13,960$."
   ]
  },
  {
   "cell_type": "code",
   "execution_count": null,
   "id": "9e588ba4",
   "metadata": {},
   "outputs": [],
   "source": []
  }
 ],
 "metadata": {
  "kernelspec": {
   "display_name": "Python 3 (ipykernel)",
   "language": "python",
   "name": "python3"
  },
  "language_info": {
   "codemirror_mode": {
    "name": "ipython",
    "version": 3
   },
   "file_extension": ".py",
   "mimetype": "text/x-python",
   "name": "python",
   "nbconvert_exporter": "python",
   "pygments_lexer": "ipython3",
   "version": "3.9.13"
  }
 },
 "nbformat": 4,
 "nbformat_minor": 5
}
