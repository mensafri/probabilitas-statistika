{
 "cells": [
  {
   "attachments": {
    "image.png": {
     "image/png": "[encoded data removed]"
    }
   },
   "cell_type": "markdown",
   "id": "8aec0e8d",
   "metadata": {},
   "source": [
    "# Distribusi Peluang Diskrit\n",
    "\n",
    "**Distribusi peluang diskrit** adalah sebuah tabel atau rumus yang\n",
    "mencantumkan semua kemungkinan nilai suatu variabel acak diskrit\n",
    "berikut peluangnya.\n",
    "\n",
    "Terdapat beberapa macam distribusi peluang diskrit, yaitu:\n",
    "\n",
    "## A. DISTRIBUSI BERNOULLI\n",
    "\n",
    "Distribusi Bernoulli dibentuk berdasarkan satu kali percobaan yang\n",
    "memberikan hasil dua kemungkinan, yaitu sukses atau gagal, dengan peluang\n",
    "sukses p dan peluang gagal $q = 1-p.$ **Variabel acak Bernoulli\n",
    "didefinisikan sebagai kejadian sukses dalam percobaan tersebut.**\n",
    "Misalnya, percobaan pelemparan sekeping mata uang logam. Jika sukses didefinisikan sebagai munculnya sisi gambar, maka variabel acak X adalah\n",
    "munculnya sisi gambar, dengan peluang sukses adalah $p = \\frac{1}{2}$ dan peluang\n",
    "gagal adalah $q = \\frac{1}{2}.$ Contoh lain lagi misalnya, kejadian tendangan pinalti ke\n",
    "gawang. Peubah acak X adalah tendangan pinalti berhasil memasukkan bola\n",
    "ke gawang. Nilai dari variabel X ini hanya ada dua kemungkinan, yaitu\n",
    "“sukses masuk gawang” atau “gagal masuk gawang”. Jika peluang seorang\n",
    "pemain sepak bola berhasil memasukkan bola ke gawang adalah 85%, maka\n",
    "peluang bola gagal masuk gawang adalah 15%.\n",
    "\n",
    "Secara umum, distribusi peluang Bernoulli diformulasikan sebagai\n",
    "berikut.\n",
    "\n",
    "**Distribusi Bernoulli**\n",
    "\n",
    "Fungsi distribusi peluang variabel acak X Bernoulli dengan peluang\n",
    "sukses p dan peluang gagal q = p - 1 adalah:\n",
    "\n",
    "![image.png](attachment:image.png)\n",
    "\n",
    "**Espektasi dan Varians Distribusi Bernoulli**\n",
    "\n",
    "Nilai espektasi variabel acak X Bernoulli adalah: $E(X) = p$ dan\n",
    "varians $Var(X) = pq$\n",
    "\n",
    "Karena variabel acak Bernoulli hanya terdiri dari satu kali percobaan,\n",
    "maka hal yang menarik adalah menggunakan kejadian Bernoulli untuk\n",
    "beberapa kali percobaan. Nah, percobaan yang melibatkan kejadian Bernoulli\n",
    "yang dilakukan sebanyak n kali dinamakan kejadian Binomial.\n",
    "\n",
    "Karena variabel acak Bernoulli hanya terdiri dari satu kali percobaan,\n",
    "maka hal yang menarik adalah menggunakan kejadian Bernoulli untuk\n",
    "beberapa kali percobaan. Nah, percobaan yang melibatkan kejadian Bernoulli\n",
    "yang dilakukan sebanyak n kali dinamakan kejadian Binomial yang akan dibahas setelah ini.\n",
    "\n",
    "Contoh penggunaan pythonnya:"
   ]
  },
  {
   "cell_type": "code",
   "execution_count": 1,
   "id": "e19e43f9",
   "metadata": {},
   "outputs": [],
   "source": [
    "from scipy.stats import bernoulli\n",
    "import seaborn as sb"
   ]
  },
  {
   "cell_type": "code",
   "execution_count": 2,
   "id": "ec16b61c",
   "metadata": {},
   "outputs": [
    {
     "name": "stderr",
     "output_type": "stream",
     "text": [
      "C:\\Users\\Safri\\anaconda3\\lib\\site-packages\\seaborn\\distributions.py:2619: FutureWarning: `distplot` is a deprecated function and will be removed in a future version. Please adapt your code to use either `displot` (a figure-level function with similar flexibility) or `histplot` (an axes-level function for histograms).\n",
      "  warnings.warn(msg, FutureWarning)\n"
     ]
    },
    {
     "data": {
      "text/plain": [
       "[Text(0.5, 0, 'Bernouli'), Text(0, 0.5, 'Frequency')]"
      ]
     },
     "execution_count": 2,
     "metadata": {},
     "output_type": "execute_result"
    },
    {
     "data": {
      "image/png": "[encoded data removed]",
      "text/plain": [
       "<Figure size 640x480 with 1 Axes>"
      ]
     },
     "metadata": {},
     "output_type": "display_data"
    }
   ],
   "source": [
    "data_bern = bernoulli.rvs(size=1000,p=0.5)\n",
    "ax = sb.distplot(data_bern,\n",
    "                  kde=True,\n",
    "                  color='crimson',\n",
    "                  hist_kws={\"linewidth\": 25,'alpha':1})\n",
    "ax.set(xlabel='Bernouli', ylabel='Frequency')"
   ]
  },
  {
   "cell_type": "markdown",
   "id": "600b0891",
   "metadata": {},
   "source": [
    "## B. DISTRIBUSI BINOMIAL\n",
    "\n",
    "Saudara, percobaan melemparkan sekeping mata uang logam tentu dapat\n",
    "dilakukan berulang-ulang, bukan? Katakanlah sebanyak n kali. Masingmasing ulangan memberikan hasil dua kemungkinan, yaitu muncul gambar\n",
    "atau muncul angka. Ini jelas merupakan percobaan Bernoulli. Nah, percobaan\n",
    "Bernoulli yang dilakukan berulang-ulang dinamakan percobaan Binomial.\n",
    "**Variabel acak Binomial X didefinisikan sebagai jumlah kejadian sukses dalam n kali percobaan.** Sehingga, distribusi peluang Binomial juga\n",
    "merupakan pengembangan dari distribusi Bernoulli. Hal ini sesuai dengan\n",
    "sejarahnya, bahwa distribusi Binomial ditemukan pertama kali oleh\n",
    "Bernoulli.\n",
    "\n",
    "Secara umum, percobaan Binomial adalah percobaan yang memiliki ciriciri berikut:\n",
    "1. Percobaannya terdiri atas n ulangan.\n",
    "2. Dalam setiap ulangan, hasilnya dapat digolongkan sukses atau gagal.\n",
    "3. Peluang sukses, yang dilambangkan dengan p, untuk setiap ulangan adalah sama, tidak berubah-ubah.\n",
    "4. Ulangan-ulangan itu bersifat bebas satu sama lain.\n",
    "\n",
    "Contohnya kita langsung praktekkan menggunakan python\n",
    "\n",
    "Misal, Sebuah perusahaan manufaktur bola lampu LED secara teratur melakukan pemeriksaan kualitas pada periode tertentu pada produk yang diproduksinya. Secara historis, tingkat kegagalan bola lampu LED yang diproduksi perusahaan adalah 5%. Misalkan sampel acak dari 10 bola lampu LED dipilih. Berapa probabilitas berikut\n",
    "\n",
    "    a. Tidak ada lampu LED yang rusak? \n",
    "    b. Salah satu bola lampu LED rusak? \n",
    "    c. Dua atau lebih sedikit bola lampu LED rusak? \n",
    "    d. Tiga atau lebih bola lampu LED rusak"
   ]
  },
  {
   "cell_type": "code",
   "execution_count": 3,
   "id": "227b17b8",
   "metadata": {},
   "outputs": [],
   "source": [
    "import numpy             as np\n",
    "import pandas            as pd\n",
    "import scipy.stats       as stats\n",
    "import matplotlib.pyplot as plt"
   ]
  },
  {
   "cell_type": "code",
   "execution_count": 4,
   "id": "8e7c207c",
   "metadata": {},
   "outputs": [],
   "source": [
    "p   =  0.05 # tingkat kegagalan untuk bola lampu LED yang diproduksi perusahaan adalah 5%\n",
    "n   =  10 # ukuran sampel\n",
    "k   =  np.arange(0,11) # Array untuk kuantil"
   ]
  },
  {
   "cell_type": "code",
   "execution_count": 5,
   "id": "a009f4e1",
   "metadata": {},
   "outputs": [],
   "source": [
    "binomial = stats.binom.pmf(k,n,p)"
   ]
  },
  {
   "cell_type": "code",
   "execution_count": 6,
   "id": "6f4065fc",
   "metadata": {},
   "outputs": [
    {
     "name": "stdout",
     "output_type": "stream",
     "text": [
      "[5.98736939e-01 3.15124705e-01 7.46347985e-02 1.04750594e-02\n",
      " 9.64808106e-04 6.09352488e-05 2.67259863e-06 8.03789062e-08\n",
      " 1.58642578e-09 1.85546875e-11 9.76562500e-14]\n"
     ]
    }
   ],
   "source": [
    "print(binomial)"
   ]
  },
  {
   "cell_type": "code",
   "execution_count": 7,
   "id": "9b91efa4",
   "metadata": {},
   "outputs": [
    {
     "name": "stdout",
     "output_type": "stream",
     "text": [
      "a. Tidak ada lampu LED yang rusak? adalah 0.5987\n"
     ]
    }
   ],
   "source": [
    "print('a. Tidak ada lampu LED yang rusak? adalah %1.4f' %binomial[0])"
   ]
  },
  {
   "cell_type": "code",
   "execution_count": 8,
   "id": "7e07cafd",
   "metadata": {},
   "outputs": [
    {
     "name": "stdout",
     "output_type": "stream",
     "text": [
      "b. Salah satu bola lampu LED rusak? adalah 0.3151\n"
     ]
    }
   ],
   "source": [
    "print('b. Salah satu bola lampu LED rusak? adalah %1.4f' %binomial[1])"
   ]
  },
  {
   "cell_type": "markdown",
   "id": "4eea31ca",
   "metadata": {},
   "source": [
    "Untuk menjawab pertanyaan c. Dua bola lampu LED atau kurang rusak? kita perlu menghitung probabilitas kumulatif dari Hingga Dua bola lampu LED yang rusak"
   ]
  },
  {
   "cell_type": "code",
   "execution_count": 9,
   "id": "c52cadd0",
   "metadata": {},
   "outputs": [
    {
     "name": "stdout",
     "output_type": "stream",
     "text": [
      "[0.59873694 0.91386164 0.98849644 0.9989715  0.99993631 0.99999725\n",
      " 0.99999992 1.         1.         1.         1.        ]\n"
     ]
    }
   ],
   "source": [
    "cumbinomial = stats.binom.cdf(k,n,p)\n",
    "print(cumbinomial)"
   ]
  },
  {
   "cell_type": "code",
   "execution_count": 10,
   "id": "2925c0e4",
   "metadata": {},
   "outputs": [
    {
     "name": "stdout",
     "output_type": "stream",
     "text": [
      "c. Dua bola lampu LED atau kurang rusak? adalah 0.9885\n"
     ]
    }
   ],
   "source": [
    "print('c. Dua bola lampu LED atau kurang rusak? adalah %1.4f' %cumbinomial[2])"
   ]
  },
  {
   "cell_type": "markdown",
   "id": "f743e129",
   "metadata": {},
   "source": [
    "Untuk menjawab pertanyaan d. Tiga bola lampu LED rusak atau lebih, kita perlu mengurangkan Probabilitas kumulatif hingga 2 bola lampu LED rusak dari 1."
   ]
  },
  {
   "cell_type": "code",
   "execution_count": 12,
   "id": "640555ff",
   "metadata": {},
   "outputs": [
    {
     "name": "stdout",
     "output_type": "stream",
     "text": [
      "d. Tiga atau lebih bola lampu LED rusak 0.0115\n"
     ]
    }
   ],
   "source": [
    "P = 1- cumbinomial[2]\n",
    "print('d. Tiga atau lebih bola lampu LED rusak %1.4f' % P)"
   ]
  },
  {
   "cell_type": "code",
   "execution_count": 14,
   "id": "5a3a5c3d",
   "metadata": {},
   "outputs": [
    {
     "data": {
      "image/png": "[encoded data removed]",
      "text/plain": [
       "<Figure size 640x480 with 1 Axes>"
      ]
     },
     "metadata": {},
     "output_type": "display_data"
    }
   ],
   "source": [
    "#plot binomial distribution\n",
    "plt.plot(k,binomial, 'o-')\n",
    "plt.title('Binomial')\n",
    "plt.xlabel('Jumlah bola lampu LED yang rusak')\n",
    "plt.ylabel('Prob Bohlam LED Rusak')\n",
    "plt.show()"
   ]
  },
  {
   "cell_type": "markdown",
   "id": "913511fa",
   "metadata": {},
   "source": [
    "## C. DISTRIBUSI SERAGAM (UNIFORM) DISKRIT\n",
    "\n",
    "Di antara semua distribusi peluang diskrit, yang paling sederhana adalah\n",
    "distribusi seragam (uniform) diskrit. Dalam distribusi ini, setiap nilai variabel\n",
    "acak mempunyai peluang terjadi yang sama.\n",
    "\n",
    "Distribusi seragam diskrit dicirikan oleh simetri dan jumlah nilai terbatas yang sama-sama mungkin untuk diamati. Dengan kata lain, setiap nilai 𝑛 memiliki probabilitas yang sama 1𝑛 untuk terjadi. Lebih mudah untuk merepresentasikan nilainya secara umum dengan semua bilangan bulat 𝑘 dalam interval [𝑎,𝑏] , jadi 𝑎 dan 𝑏 adalah parameter utama dari distribusi, dinyatakan sebagai:\n",
    "\n",
    "$$ \\large\n",
    "f(k;a,b)=Pr(X = k)=\\frac{1}{b - a + 1}\n",
    "$$"
   ]
  },
  {
   "cell_type": "code",
   "execution_count": 15,
   "id": "005859b8",
   "metadata": {},
   "outputs": [],
   "source": [
    "def uniformDistribution(k, a, b):\n",
    "    den = b - a + 1\n",
    "    return 1/den"
   ]
  },
  {
   "cell_type": "code",
   "execution_count": 16,
   "id": "1c6a7abd",
   "metadata": {},
   "outputs": [
    {
     "data": {
      "image/png": "[encoded data removed]",
      "text/plain": [
       "<Figure size 640x480 with 1 Axes>"
      ]
     },
     "metadata": {},
     "output_type": "display_data"
    }
   ],
   "source": [
    "ud = uniformDistribution\n",
    "\n",
    "# Distribution A\n",
    "a, b = 10, 35\n",
    "RANGE = np.arange(a, b + 1)\n",
    "n = RANGE.size\n",
    "\n",
    "plt.bar(\n",
    "    RANGE, [ud(k, a, b) for k in RANGE], \n",
    "    alpha=0.5, \n",
    "    label=f'$n={n} \\\\quad|\\\\quad ab:[{a},{b}]$'\n",
    ")\n",
    "\n",
    "# Distribution B\n",
    "a, b = 25, 60\n",
    "RANGE = np.arange(a, b + 1)\n",
    "n = RANGE.size\n",
    "\n",
    "plt.bar(\n",
    "    RANGE, [ud(k, a, b) for k in RANGE], \n",
    "    alpha=0.5, \n",
    "    label=f'$n={n} \\\\quad|\\\\quad ab:[{a},{b}]$'\n",
    ")\n",
    "\n",
    "# Distribution C\n",
    "a, b = 45, 65\n",
    "RANGE = np.arange(a, b + 1)\n",
    "n = RANGE.size\n",
    "\n",
    "plt.bar(\n",
    "    RANGE, [ud(k, a, b) for k in RANGE], \n",
    "    alpha=0.5, \n",
    "    label=f'$n={n} \\\\quad|\\\\quad ab:[{a},{b}]$'\n",
    ")\n",
    "\n",
    "# Visualization\n",
    "plt.xlabel('k')\n",
    "plt.ylabel('Probability')\n",
    "plt.legend()\n",
    "plt.show()"
   ]
  },
  {
   "cell_type": "markdown",
   "id": "a5238bc9",
   "metadata": {},
   "source": [
    "## D. DISTRIBUSI HIPERGEOMETRIK\n",
    "\n",
    "Distribusi Hipergeometrik sering terjadi pada populasi produksi yang\n",
    "dapat dikategorikan cacat dan tidak cacat. Jika diambil sampel secara acak,\n",
    "karakteristik cacat dan tidak cacat masih mungkin nampak dalam sampel, dan\n",
    "peluang terjadinya dapat ditentukan.\n",
    "\n",
    "Distribusi peluang peubah acak hipergeometrik adalah banyaknya sukses $X$ dalam sampel acak ukuran $n$ yang diambil dari populasi sebanyak $N$ yang mengandung jumlah sukses sebanyak $k.$\n",
    "\n",
    "\n",
    "- Jika $n$ item dipilih secara acak tanpa pengembalian, maka distribusi $X \\sim B(n,p)$\n",
    "- Distribusi Hipergeometrik: $n$ item dipilih secara acak tanpa penggantian\n",
    "- Rumus peluang distribusi hipergeometrik:\n",
    "\\begin{equation}\n",
    "    f(x; N, n, k) = \\frac{ \\binom{k}{x} \\binom{N-k}{n-x} }{ \\binom{N}{n} },\n",
    "\\end{equation}\n",
    "\\begin{equation}\n",
    "    max \\{ 0, n-(N-k) \\} \\leq x \\leq min \\{ n, k \\}\n",
    "\\end{equation}\n",
    "- $E(X) = n\\frac{k}{N}$\n",
    "- $Var(X) = \\frac{N-n}{N-1} n \\frac{k}{N}(1- \\frac{k}{N})$\n",
    "\n",
    "Contoh distribusi hipergeometrik menggunakan python"
   ]
  },
  {
   "cell_type": "code",
   "execution_count": 17,
   "id": "afc0e9af",
   "metadata": {},
   "outputs": [
    {
     "name": "stdout",
     "output_type": "stream",
     "text": [
      "Mean:  3.0\n",
      "Variance:  0.8571428571428571\n",
      "Probability mass function:  0.23976023976023975\n",
      "Cumulative distribution function:  0.28671328671328666\n"
     ]
    }
   ],
   "source": [
    "from scipy.stats import hypergeom\n",
    "\n",
    "x = 2 # jumlah sukses terambil.\n",
    "N = 15 # jumlah populasi\n",
    "k = 9 # jumlah sukses\n",
    "n = 5 # jumlah sampel\n",
    "\n",
    "print(\"Mean: \", hypergeom.mean(N, k, n))\n",
    "print(\"Variance: \", hypergeom.var(N, k, n))\n",
    "print(\"Probability mass function: \", hypergeom.pmf(x, N, k, n))\n",
    "print(\"Cumulative distribution function: \", hypergeom.cdf(x, N, k, n))"
   ]
  },
  {
   "cell_type": "markdown",
   "id": "c1b09693",
   "metadata": {},
   "source": [
    "## E. DISTRIBUSI POISSON\n",
    "\n",
    "Distribusi poisson adalah kasus khusus dari distribusi binomial, dimana distribusi binomial akan menjadi distribusi poisson ketika $n$ mendekati tak hingga $(\\infty)$ dan $p$ mendekati nol (0).\n",
    "\n",
    "- Menjelaskan jumlah \"peristiwa\" yang terjadi dalam batas ruang dan waktu tertentu\n",
    "- Sebuah variabel acak $X$ didistribusikan sebagai variabel acak Poisson dengan parameter $\\lambda$ ditulis sebagai:\n",
    "\n",
    "$$\\large\n",
    "    X \\sim P(\\lambda)\n",
    "$$\n",
    "- Rumus peluang Distribusi poisson:\n",
    "$$\\large\n",
    "    P(X = x) = \\frac{ e^{- \\lambda} \\lambda ^ {x}} {x!} \\text{   } x=0,1,2, \\cdots.\n",
    "$$\n",
    "\n",
    "Contoh distribusi poisson menggunakan pyhton:"
   ]
  },
  {
   "cell_type": "code",
   "execution_count": 18,
   "id": "dc765128",
   "metadata": {},
   "outputs": [
    {
     "name": "stdout",
     "output_type": "stream",
     "text": [
      "Mean:  0.6666666666666666\n",
      "Variance:  0.6666666666666666\n",
      "Probability mass function:  0.3422780793550613\n",
      "Cumulative distribution function:  0.8556951983876534\n"
     ]
    }
   ],
   "source": [
    "from scipy.stats import poisson\n",
    "\n",
    "# Parameter\n",
    "x = 1 # jumlah kejadian\n",
    "Lambda = 2/3 # parameter lambda \n",
    "\n",
    "print(\"Mean: \", poisson.mean(Lambda))\n",
    "print(\"Variance: \", poisson.var(Lambda))\n",
    "print(\"Probability mass function: \", poisson.pmf(x, Lambda))\n",
    "print(\"Cumulative distribution function: \", poisson.cdf(x, Lambda))"
   ]
  },
  {
   "cell_type": "markdown",
   "id": "75ba29c3",
   "metadata": {},
   "source": [
    "Sumber Penting:\n",
    "\n",
    "- https://www.rumusstatistik.com/2012/07/rumus-distribusi-poisson.html\n",
    "- https://www.rumusstatistik.com/2012/07/rumus-distribusi-hipergeometrik.html"
   ]
  },
  {
   "cell_type": "code",
   "execution_count": null,
   "id": "022fc06b",
   "metadata": {},
   "outputs": [],
   "source": []
  }
 ],
 "metadata": {
  "kernelspec": {
   "display_name": "Python 3 (ipykernel)",
   "language": "python",
   "name": "python3"
  },
  "language_info": {
   "codemirror_mode": {
    "name": "ipython",
    "version": 3
   },
   "file_extension": ".py",
   "mimetype": "text/x-python",
   "name": "python",
   "nbconvert_exporter": "python",
   "pygments_lexer": "ipython3",
   "version": "3.9.13"
  }
 },
 "nbformat": 4,
 "nbformat_minor": 5
}
