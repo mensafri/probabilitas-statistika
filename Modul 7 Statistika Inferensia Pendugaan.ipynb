{
 "cells": [
  {
   "cell_type": "markdown",
   "id": "fda16d83",
   "metadata": {},
   "source": [
    "# Distribusi Sampling dan Teorema Limit Pusat\n",
    "\n",
    "Distribusi sampel adalah distribusi dari rata-rata atau proporsi sampel yang diambil secara berulang-ulang (n kali) dari populasi. menunjukkan distribusi dari nilai – nilai yang berbeda statistik sampel atau penduga dari banyak sampel yang berukuran sama.\n",
    "\n",
    "Suatu variabel acak tentu memiliki distribusi peluang. Nah, karena\n",
    "statistik itu merupakan variabel acak, maka statistik juga memiliki distribusi\n",
    "peluang, yang dinamakan distribusi sampling.\n",
    "\n",
    "**Distribusi sampling adalah distribusi peluang dari suatu statistik**\n",
    "\n",
    "Sebuah distribusi tentu memiliki nilai tengah atau rataan dan juga\n",
    "keragaman yang dicirikan oleh simpangan baku. Nah, simpangan baku dari\n",
    "suatu statistik disebut sebagai *standar error* atau galat baku. Misalnya\n",
    "statistik yang kita perhatikan adalah rata-rata $(\\hat{X}).$ Distribusi peluang $\\hat{X}$\n",
    "disebut distribusi sampel dari rataan, dan standar error bagi rataan adalah\n",
    "simpangan baku dari distribusi sampel $\\hat{X}.$\n",
    "\n",
    "- Pada bagian ini, kita akan mempelajari hubungan antara rata-rata populasi dan rata-rata sampel yang diambil dari populasi.\n",
    "- **Distribusi pengambilan sampel** adalah distribusi probabilitas statistik sampel yang terbentuk saat sampel berukuran $n$ diambil berulang kali dari suatu populasi.\n",
    "- Jika **statistik sampel adalah mean sampel**, maka distribusinya adalah distribusi sampling rata-rata sampel. \n",
    "- Setiap statistik sampel memiliki distribusi sampling.\n",
    "\n",
    "### Distribusi Pengambilan Sampel\n",
    "\n",
    "\n",
    "![](./image/5_4_sample_population_venn_diagram.png)\n",
    "\n",
    "- Persegi panjang mewakili populasi besar, dan setiap lingkaran mewakili sampel berukuran $n$.\n",
    "- Karena entri sampel dapat berbeda, rata-rata sampel juga dapat berbeda.\n",
    "- Mean dari Sample $1$ adalah $\\bar{x}_{1}$; Mean dari Sample $2$ adalah $\\bar{x}_{2}$; dan seterusnya. \n",
    "- **Distribusi pengambilan sampel dari sampel berarti** untuk sampel berukuran $n$ untuk populasi ini terdiri dari $\\bar{x}_{1}, \\bar{x}_{2}, \\bar{x}_{3},$ dan seterusnya. \n",
    "- Jika sampel diambil dengan pengembalian, maka jumlah sampel yang tak terhingga dapat diambil dari populasi.\n",
    "\n"
   ]
  },
  {
   "cell_type": "markdown",
   "id": "c1e54472",
   "metadata": {},
   "source": [
    "### Properti Distribusi Sampling dari Rata-Rata Sampel\n",
    "\n",
    "1. Rata-rata sampel berarti $\\mu_{\\bar{x}}$ sama dengan rata-rata populasi $\\mu$.<br/>\n",
    "$\\mu_{\\bar{x}} = \\mu$\n",
    "2. Standar deviasi dari sampel berarti $\\sigma_{\\bar{x}}$ sama dengan standar deviasi populasi $\\sigma$ dibagi dengan akar kuadrat dari ukuran sampel $n$. <br/>\n",
    "$\\sigma_{\\bar{x}} = \\frac{\\sigma}{\\sqrt{n}}$  <br/><br/>\n",
    "\n",
    "Deviasi standar dari distribusi sampling rata-rata sampel disebut **standar error rata-rata**."
   ]
  },
  {
   "cell_type": "markdown",
   "id": "a831c1ce",
   "metadata": {},
   "source": [
    "### Distribusi Sampling dari Rata-Rata Sampel [Contoh 1]\n",
    "\n",
    "- Anda menulis nilai populasi $\\{1, 3, 5, 7\\}$ pada secarik kertas dan memasukkannya ke dalam kotak. \n",
    "- Kemudian Anda secara acak memilih dua lembar kertas, dengan penggantian.\n",
    "- Buat daftar semua sampel yang mungkin berukuran $n = 2$ dan hitung rata-rata masing-masing.\n",
    "- Rata-rata ini membentuk distribusi sampling dari mean sampel.\n",
    "- Cari rata-rata, varians, dan standar deviasi rata-rata sampel.\n",
    "- Bandingkan hasil Anda dengan mean $\\mu = 4$, variansi $\\sigma^{2} = 5$, dan standar deviasi $\\sigma \\approx 2.23$ dari populasi"
   ]
  },
  {
   "cell_type": "markdown",
   "id": "1a0aa1d0",
   "metadata": {},
   "source": [
    "### A Sampling Distribution of Sample Means [solution]\n",
    "\n",
    "- Cantumkan semua $16$ sampel dengan ukuran $2$ dari populasi dan rata-rata setiap sampel.\n",
    "\n",
    "![](./image/5_4_sample_means_example_table.png)\n",
    "\n",
    "![](./image/5_4_probability_distribution_of_sample_means_table.png)\n",
    "\n",
    "- Setelah membangun distribusi probabilitas rata-rata sampel, kita dapat membuat grafik distribusi sampling menggunakan histogram probabilitas.\n",
    "- Perhatikan bahwa bentuk histogram berbentuk lonceng dan simetris, mirip dengan kurva normal.\n",
    "\n",
    "![](./image/5_4_probability_histogram_of_sampling_distribution.png)\n",
    "\n",
    "Rata-rata, varians, dan standar deviasi rata-rata sampel $16$ adalah:\n",
    "\n",
    "- $\\mu_{\\bar{x}} = 4$\n",
    "- $(\\sigma_{\\bar{x}})^{2} = \\frac{5}{2} = 2.5$\n",
    "- $\\sigma_{\\bar{x}} = \\sqrt{2.5} \\approx 1.581$\n",
    "\n",
    "Hasil ini memenuhi sifat distribusi sampling karena:\n",
    "\n",
    "- $\\mu_{\\bar{x}} = \\mu = 4$\n",
    "- $\\sigma_{\\bar{x}} = \\frac{\\sigma}{\\sqrt{n}} = \\frac{\\sqrt{5}}{\\sqrt{2}} \\approx 1.581$\n"
   ]
  },
  {
   "cell_type": "markdown",
   "id": "b5306525",
   "metadata": {},
   "source": [
    "### Teorema Limit Pusat\n",
    "\n",
    "- Teorema Limit Pusat membentuk dasar untuk cabang statistik inferensial.\n",
    "- Teorema ini menjelaskan hubungan antara distribusi sampel rata-rata sampel dan populasi tempat sampel diambil.\n",
    "- Teorema Limit Pusat adalah alat penting yang memberikan informasi yang Anda perlukan untuk menggunakan statistik sampel untuk membuat kesimpulan tentang rata-rata populasi.\n",
    "\n",
    "1. Jika sampel berukuran $n$, di mana $n \\ge 30$, diambil dari sembarang populasi dengan rata-rata $\\mu$ dan standar deviasi $\\sigma$, maka distribusi sampel rata-rata sampel mendekati distribusi normal. Semakin besar ukuran sampel, semakin baik perkiraannya.\n",
    "2. Jika populasi itu sendiri terdistribusi normal, maka distribusi sampling rata-rata sampel terdistribusi normal untuk setiap ukuran sampel $n$. <br/><br/>\n",
    "\n",
    "Dalam kedua kasus tersebut, distribusi sampling rata-rata sampel memiliki rata-rata yang sama dengan rata-rata populasi.<br/>\n",
    "$\\mu_{\\bar{x}} = \\mu$ <br/>\n",
    "\n",
    "dan standar deviasi sama dengan standar deviasi populasi dibagi dengan akar kuadrat dari $n$. <br/>\n",
    "$\\sigma_{\\bar{x}} = \\frac{\\sigma}{\\sqrt{n}}$"
   ]
  },
  {
   "cell_type": "markdown",
   "id": "625e0691",
   "metadata": {},
   "source": [
    "### Teorema Limit Pusat\n",
    "\n",
    "- Distribusi rata-rata sampel memiliki rata-rata yang sama dengan populasi.\n",
    "- Tapi standar deviasinya kurang dari standar deviasi populasi.\n",
    "- Ini memberitahu Anda bahwa distribusi rata-rata sampel memiliki pusat yang sama dengan populasi, tetapi tidak menyebar.\n",
    "- Distribusi rata-rata sampel menjadi semakin tidak menyebar (konsentrasi yang lebih ketat tentang rata-rata) karena ukuran sampel $n$ meningkat.\n",
    "\n",
    "![](./image/5_4_distribution_of_sample_means.png)"
   ]
  },
  {
   "cell_type": "markdown",
   "id": "bb254c7a",
   "metadata": {},
   "source": [
    "### Menafsirkan Teorema Limit Pusat [contoh 2]\n",
    "\n",
    "- Tagihan ponsel untuk penduduk suatu kota memiliki rata-rata $\\$47$ dan standar deviasi $\\$9$, seperti yang ditunjukkan pada gambar.\n",
    "- Sampel acak tagihan telepon seluler $100 diambil dari populasi ini, dan rata-rata setiap sampel ditentukan.\n",
    "- Temukan rata-rata dan standar deviasi dari distribusi sampel rata-rata sampel.\n",
    "- Kemudian buat sketsa grafik distribusi sampling.\n",
    "\n",
    "![](./image/5_4_distribution_of_all_cell_phone_bills.png)"
   ]
  },
  {
   "cell_type": "markdown",
   "id": "9dbf6584",
   "metadata": {},
   "source": [
    "### Interpreting the Central Limit Theorem [solution]\n",
    "\n",
    "- Rata-rata distribusi sampling sama dengan rata-rata populasi,<br/>\n",
    "Mean dari sampel rata-rata: $\\mu_{\\bar{x}} = \\mu = 47$\n",
    "\n",
    "- dan simpangan baku rata-rata sampel sama dengan simpangan baku populasi dibagi dengan $\\sqrt{n}$. <br/>\n",
    "Standar deviasi dari rata-rata sample: $\\sigma_{\\bar{x}} = \\frac{\\sigma}{\\sqrt{n}} = \\frac{9}{\\sqrt{100}} = 0.9$\n",
    "\n",
    "#### Tafsiran\n",
    "\n",
    "Karena ukuran sampel lebih besar dari $30$, distribusi sampel dapat didekati dengan distribusi normal dengan rata-rata $\\$47$ dan standar deviasi $\\$0,9$, seperti yang ditunjukkan pada gambar.\n",
    "\n",
    "![](./image/5_4_distribution_of_sample_means_example.png)"
   ]
  },
  {
   "cell_type": "markdown",
   "id": "5344a34a",
   "metadata": {},
   "source": [
    "### Probabilitas dan Teorema Limit Pusat\n",
    "\n",
    "- Kita dapat menemukan probabilitas bahwa rata-rata sampel $\\bar{x}$ akan terletak pada interval tertentu dari distribusi sampel $\\bar{x}$.\n",
    "- Untuk mengubah $\\bar{x}$ menjadi nilai $z$, Anda dapat menggunakan rumus: <br/>\n",
    "$$\\large\n",
    "z = \\frac{ \\bar{x} - \\mu_{\\bar{x}} }{ \\sigma_{\\bar{x}} } = \\frac{ \\bar{x} - \\mu }{ \\sigma / \\sqrt{n} }\n",
    "$$"
   ]
  },
  {
   "cell_type": "markdown",
   "id": "10b60fd5",
   "metadata": {},
   "source": [
    "### Menemukan Probabilitas Distribusi Sampling [contoh 4]\n",
    "\n",
    "- Gambar di bawah menunjukkan lamanya waktu yang dihabiskan orang untuk mengemudi setiap hari.\n",
    "- Anda secara acak memilih driver $50$ usia $15$ hingga $19$.\n",
    "- Berapa probabilitas waktu rata-rata yang mereka habiskan untuk mengemudi setiap hari adalah antara $24,7$ dan $25,5$ menit?\n",
    "- Asumsikan bahwa $\\sigma = 1,5$ menit.\n",
    "\n",
    "![](./image/5_4_time_behind_the_wheel.png)"
   ]
  },
  {
   "cell_type": "markdown",
   "id": "b8b6e45e",
   "metadata": {},
   "source": [
    "### Finding Probabilities for Sampling Distributions [solution]\n",
    "\n",
    "- Ukuran sampel lebih besar dari $30$, sehingga Anda dapat menggunakan Teorema Limit Pusat untuk menyimpulkan bahwa distribusi rata-rata sampel kira-kira normal, dengan rata-rata dan simpangan baku sebesar:\n",
    "\n",
    "  - $\\mu_{\\bar{x}} = \\mu = 25$ minutes \n",
    "  - $\\sigma_{\\bar{x}} = \\frac{\\sigma}{\\sqrt{n}} = \\frac{1.5}{\\sqrt{50}} \\approx 0.21213$ minutes\n",
    "\n",
    "- Grafik distribusi ini ditunjukkan di bawah ini dengan area yang diarsir antara $24.7$ dan $25.5$ menit.\n",
    "  \n",
    "![](./image/5_4_distribution_time_behind_the_wheel.png)\n",
    "\n",
    "- Nilai $z$ yang sesuai dengan rata-rata sampel $24.7$ dan $25.5$ menit ditemukan seperti yang ditunjukkan:\n",
    "  - $z_{1} = \\frac{24.7 - 25}{1.5 / \\sqrt{50}} \\approx -1.41$ \n",
    "  - $z_{2} = \\frac{25.5 - 25}{1.5 / \\sqrt{50}} \\approx 2.36$ \n",
    "\n",
    "![](./image/5_4_z_score_time_behind_the_wheel.png)\n",
    "\n",
    "- peluang waktu rata-rata yang dihabiskan orang $50$ untuk mengemudi setiap hari adalah antara $24,7$ dan $25,5$ menit adalah:\n",
    "\n",
    "$$\n",
    "\\begin{aligned}\n",
    "P(24.7 < \\bar{x} < 25.5)  &= P( -1.41 < z < 2.36) \\\\\n",
    "                          &= P(z < 2.36) - P(z < -1.41) \\\\\n",
    "                          &= 0.9909 - 0.0793 \\\\\n",
    "                          &= 0.9116\n",
    "\\end{aligned}\n",
    "$$"
   ]
  },
  {
   "cell_type": "code",
   "execution_count": 1,
   "id": "0446529f",
   "metadata": {},
   "outputs": [
    {
     "name": "stdout",
     "output_type": "stream",
     "text": [
      "z1: -1.4142135623730985\n",
      "z2: 2.3570226039551585\n",
      "p: 0.9121393337478084\n"
     ]
    }
   ],
   "source": [
    "from scipy import stats\n",
    "import math\n",
    "mu = 25\n",
    "n = 50\n",
    "sigma = 1.5\n",
    "x1, x2 = 24.7, 25.5 \n",
    "\n",
    "z1 = (x1 - mu) / (sigma / math.sqrt(n))\n",
    "z2 = (x2 - mu) / (sigma / math.sqrt(n))\n",
    "print(f'z1: {z1}')\n",
    "print(f'z2: {z2}')\n",
    "\n",
    "p = stats.norm.cdf(z2) - stats.norm.cdf(z1)\n",
    "print(f'p: {p}')"
   ]
  },
  {
   "cell_type": "code",
   "execution_count": 2,
   "id": "9a659eae",
   "metadata": {},
   "outputs": [
    {
     "data": {
      "image/png": "[encoded data removed]",
      "text/plain": [
       "<Figure size 640x480 with 1 Axes>"
      ]
     },
     "metadata": {},
     "output_type": "display_data"
    }
   ],
   "source": [
    "from scipy import stats\n",
    "import numpy as np\n",
    "import matplotlib.pyplot as plt\n",
    "\n",
    "def draw_z_score(x, cond, mu=0, sigma=1):\n",
    "    y = stats.norm.pdf(x, mu, sigma)\n",
    "    z = x[cond]\n",
    "    plt.plot(x, y)\n",
    "    plt.fill_between(z, 0, stats.norm.pdf(z, mu, sigma))\n",
    "    plt.show()\n",
    "\n",
    "x = np.arange(-3, 3, 0.001)\n",
    "draw_z_score(x, (z1<x) & (x<z2))"
   ]
  },
  {
   "cell_type": "markdown",
   "id": "3a43a014",
   "metadata": {},
   "source": [
    "##### Artinya\n",
    "\n",
    "Dari sampel $50$ pengemudi yang berusia $15$ hingga $19$, sekitar $91\\%$ akan memiliki waktu mengemudi rata-rata antara $24,7$ dan $25,5$ menit, seperti yang ditunjukkan pada grafik. Ini menyiratkan bahwa, dengan asumsi nilai $\\mu = 25$ benar, sekitar $9\\%$ rata-rata sampel tersebut akan berada di luar interval yang diberikan."
   ]
  },
  {
   "cell_type": "markdown",
   "id": "55b6e8fc",
   "metadata": {},
   "source": [
    "### Menemukan Probabilitas untuk $x$ dan $\\bar{x}$ [contoh]\n",
    "\n",
    "Rata-rata hutang kartu kredit yang dipikul oleh mahasiswa terdistribusi secara normal,\n",
    "dengan rata-rata $\\$3173$ dan standar deviasi $\\$1120$.\n",
    "\n",
    "- Q1: Berapa probabilitas seorang sarjana yang dipilih secara acak, yang merupakan pemegang kartu kredit, memiliki saldo kartu kredit kurang dari $\\$2700$?\n",
    "- Q2: Anda secara acak memilih mahasiswa $25$ yang merupakan pemegang kartu kredit. Berapa peluang rata-rata saldo kartu kredit mereka kurang dari $\\$2700$?\n",
    "- Q3: Bandingkan probabilitas dari (1) dan (2)."
   ]
  },
  {
   "cell_type": "markdown",
   "id": "2ab5f3b6",
   "metadata": {},
   "source": [
    "### Menemukan Probabilitas untuk $x$ dan $\\bar{x}$ [solusi]\n",
    "\n",
    "#### Q1: Berapa peluang seorang sarjana yang dipilih secara acak, yang merupakan pemegang kartu kredit, memiliki saldo kartu kredit kurang dari $\\$2700$?\n",
    "\n",
    "\n",
    "- Dalam hal ini, kita diminta untuk menemukan probabilitas yang terkait dengan nilai tertentu dari variabel acak $x$.\n",
    "- Skor $z$ yang sesuai dengan $x = \\$2700$ adalah: <br/>\n",
    " - $z = \\frac{x - \\mu}{\\sigma} = \\frac{2700 - 3137}{1120} \\approx -0.42$ <br/>\n",
    "\n",
    "- Peluang pemegang kartu memiliki saldo kurang dari $\\$2700$ adalah:\n",
    " - $P(x < 2700) = P(z < -0.42) = 0.3372.$\n"
   ]
  },
  {
   "cell_type": "code",
   "execution_count": 3,
   "id": "09e99ec4",
   "metadata": {},
   "outputs": [
    {
     "name": "stdout",
     "output_type": "stream",
     "text": [
      "z-score: -0.42232142857142857\n",
      "p: 0.3363952096371293\n"
     ]
    }
   ],
   "source": [
    "from scipy import stats\n",
    "mu = 3173\n",
    "sigma = 1120\n",
    "x = 2700 \n",
    "\n",
    "z_score = (x - mu) / sigma\n",
    "print(f'z-score: {z_score}')\n",
    "\n",
    "p = stats.norm.cdf(z_score)\n",
    "print(f'p: {p}')"
   ]
  },
  {
   "cell_type": "code",
   "execution_count": 4,
   "id": "bee989ca",
   "metadata": {},
   "outputs": [
    {
     "data": {
      "image/png": "[encoded data removed]",
      "text/plain": [
       "<Figure size 640x480 with 1 Axes>"
      ]
     },
     "metadata": {},
     "output_type": "display_data"
    }
   ],
   "source": [
    "from scipy import stats\n",
    "import numpy as np\n",
    "import matplotlib.pyplot as plt\n",
    "\n",
    "def draw_z_score(x, cond, mu=0, sigma=1):\n",
    "    y = stats.norm.pdf(x, mu, sigma)\n",
    "    z = x[cond]\n",
    "    plt.plot(x, y)\n",
    "    plt.fill_between(z, 0, stats.norm.pdf(z, mu, sigma))\n",
    "    plt.show()\n",
    "\n",
    "x = np.arange(-3, 3, 0.001)\n",
    "draw_z_score(x, x<z_score)"
   ]
  },
  {
   "cell_type": "markdown",
   "id": "5a50e008",
   "metadata": {},
   "source": [
    "#### Q2: Anda secara acak memilih mahasiswa $25$ yang merupakan pemegang kartu kredit. Berapa peluang rata-rata saldo kartu kredit mereka kurang dari $\\$2700$?\n",
    "\n",
    "- Di sini, Anda diminta untuk menemukan probabilitas yang terkait dengan rata-rata sampel $x$.\n",
    "- Skor $z$ yang sesuai dengan $\\bar{x} = \\$2700$ adalah:\n",
    " - $z = \\frac{\\bar{x} - \\mu_{\\bar{x}}}{\\sigma_{\\bar{x}}} \n",
    "      = \\frac{\\bar{x}-\\mu_{\\bar{x}}}{\\sigma/\\sqrt{n}}\n",
    "      = \\frac{2700-3173}{1120/\\sqrt{25}}\n",
    "      \\approx -2.11$\n",
    "- Peluang rata-rata saldo kartu kredit dari pemegang kartu $25$ kurang dari $\\$2700$ adalah:\n",
    " - $P(x < 2700) = P(z < -2.11) = 0.0174$"
   ]
  },
  {
   "cell_type": "code",
   "execution_count": 5,
   "id": "0d7ba07d",
   "metadata": {},
   "outputs": [
    {
     "name": "stdout",
     "output_type": "stream",
     "text": [
      "z-score: -2.111607142857143\n",
      "p: 0.017360079699138387\n"
     ]
    }
   ],
   "source": [
    "from scipy import stats\n",
    "import math\n",
    "mu = 3173\n",
    "sigma = 1120\n",
    "n = 25\n",
    "x = 2700 \n",
    "\n",
    "z_score = (x - mu) / (sigma / math.sqrt(n))\n",
    "print(f'z-score: {z_score}')\n",
    "\n",
    "p = stats.norm.cdf(z_score)\n",
    "print(f'p: {p}')"
   ]
  },
  {
   "cell_type": "code",
   "execution_count": 6,
   "id": "5bd4c72f",
   "metadata": {},
   "outputs": [
    {
     "data": {
      "image/png": "[encoded data removed]",
      "text/plain": [
       "<Figure size 640x480 with 1 Axes>"
      ]
     },
     "metadata": {},
     "output_type": "display_data"
    }
   ],
   "source": [
    "from scipy import stats\n",
    "import numpy as np\n",
    "import matplotlib.pyplot as plt\n",
    "\n",
    "def draw_z_score(x, cond, mu=0, sigma=1):\n",
    "    y = stats.norm.pdf(x, mu, sigma)\n",
    "    z = x[cond]\n",
    "    plt.plot(x, y)\n",
    "    plt.fill_between(z, 0, stats.norm.pdf(z, mu, sigma))\n",
    "    plt.show()\n",
    "\n",
    "x = np.arange(-3, 3, 0.001)\n",
    "draw_z_score(x, x<z_score)"
   ]
  },
  {
   "cell_type": "markdown",
   "id": "67d12162",
   "metadata": {},
   "source": [
    "#### Q3: Bandingkan probabilitas dari (1) dan (2).\n",
    "\n",
    "- Meskipun ada kemungkinan $34\\%$ bahwa seorang sarjana akan memiliki saldo kurang dari $\\$2700$, hanya ada sekitar $2\\%$ kemungkinan rata-rata sampel $25$ sarjana akan memiliki saldo lebih sedikit dari $\\$2700$.\n",
    "- Karena hanya ada kemungkinan $2\\%$ bahwa rata-rata sampel sarjana $25$ akan memiliki saldo kurang dari $\\$2700$, ini adalah peristiwa yang tidak biasa."
   ]
  },
  {
   "cell_type": "markdown",
   "id": "41d28760",
   "metadata": {},
   "source": [
    "Pendugaan titik selang masih belum paham, wkwkw"
   ]
  },
  {
   "cell_type": "code",
   "execution_count": null,
   "id": "633ed172",
   "metadata": {},
   "outputs": [],
   "source": []
  }
 ],
 "metadata": {
  "kernelspec": {
   "display_name": "Python 3 (ipykernel)",
   "language": "python",
   "name": "python3"
  },
  "language_info": {
   "codemirror_mode": {
    "name": "ipython",
    "version": 3
   },
   "file_extension": ".py",
   "mimetype": "text/x-python",
   "name": "python",
   "nbconvert_exporter": "python",
   "pygments_lexer": "ipython3",
   "version": "3.9.13"
  }
 },
 "nbformat": 4,
 "nbformat_minor": 5
}
