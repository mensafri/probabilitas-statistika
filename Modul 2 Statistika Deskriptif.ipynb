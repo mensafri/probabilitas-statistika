{
 "cells": [
  {
   "cell_type": "markdown",
   "id": "9d4ea65c",
   "metadata": {},
   "source": [
    "# <center>Penyajian Data</center>\n",
    "\n",
    "Penyajian data dapat dilakukan dengan banyak cara, namun secara\n",
    "umum terbagi menjadi dua cara, yaitu dengan menggunakan tabel dan\n",
    "grafik/diagram. Masing-masing cara memiliki kesesuaian tersendiri dengan\n",
    "jenis atau tipe datanya. Pendekatan tabel dapat dilakukan untuk jenis data\n",
    "kualitatif maupun kuantitatif. Sementara pendekatan grafik/diagram, ada\n",
    "sebagian yang sesuai untuk tipe data kuantitatif dan sebagian hanya sesuai\n",
    "untuk data kualitatif. Beberapa cara penyajian data yang dibahas dalam\n",
    "materi ini adalah tabel distribusi frekuensi, histogram, diagram batang,\n",
    "diagram lingkaran, dan diagram kotak garis (box plot)."
   ]
  },
  {
   "cell_type": "markdown",
   "id": "8e70c18e",
   "metadata": {},
   "source": [
    "### A. TABEL DISTRIBUSI FREKUENSI\n",
    "\n",
    "Pada data yang berjumlah besar, untuk memudahkan analisis deskriptif\n",
    "data tersebut dapat diringkas menjadi tabel distribusi frekuensi. Bentuk\n",
    "deskripsi ini adalah dengan mengelompokkan data tersebut ke dalam\n",
    "beberapa kelas atau kelompok. Selanjutnya menghitung frekuensi (jumlah)\n",
    "data pada masing-masing kelas tersebut. Pada data kualitatif, distribusi\n",
    "frekuensinya ditunjukkan oleh jumlah data pada masing-masing kategori\n",
    "yang ada atau dibentuk.\n",
    "\n",
    "Sebagai ilustrasi, disajikan data tentang produk\n",
    "elektronik di sebuah toko yang terjual pada satu hari. Produk elektronik\n",
    "tersebut adalah TV, radio, dan AC\n",
    "\n"
   ]
  },
  {
   "cell_type": "markdown",
   "id": "87d0dae3",
   "metadata": {},
   "source": [
    "Di dalam python kita bisa membuat tabel dengan menggunakan kode sebagai berikut:"
   ]
  },
  {
   "cell_type": "code",
   "execution_count": 51,
   "id": "0e03af4c",
   "metadata": {},
   "outputs": [
    {
     "data": {
      "text/html": [
       "<div>\n",
       "<style scoped>\n",
       "    .dataframe tbody tr th:only-of-type {\n",
       "        vertical-align: middle;\n",
       "    }\n",
       "\n",
       "    .dataframe tbody tr th {\n",
       "        vertical-align: top;\n",
       "    }\n",
       "\n",
       "    .dataframe thead th {\n",
       "        text-align: right;\n",
       "    }\n",
       "</style>\n",
       "<table border=\"1\" class=\"dataframe\">\n",
       "  <thead>\n",
       "    <tr style=\"text-align: right;\">\n",
       "      <th></th>\n",
       "      <th>Produk Elektronik Yang Terjual</th>\n",
       "    </tr>\n",
       "  </thead>\n",
       "  <tbody>\n",
       "    <tr>\n",
       "      <th>0</th>\n",
       "      <td>TV</td>\n",
       "    </tr>\n",
       "    <tr>\n",
       "      <th>1</th>\n",
       "      <td>Radio</td>\n",
       "    </tr>\n",
       "    <tr>\n",
       "      <th>2</th>\n",
       "      <td>Radio</td>\n",
       "    </tr>\n",
       "    <tr>\n",
       "      <th>3</th>\n",
       "      <td>TV</td>\n",
       "    </tr>\n",
       "    <tr>\n",
       "      <th>4</th>\n",
       "      <td>TV</td>\n",
       "    </tr>\n",
       "    <tr>\n",
       "      <th>5</th>\n",
       "      <td>TV</td>\n",
       "    </tr>\n",
       "    <tr>\n",
       "      <th>6</th>\n",
       "      <td>TV</td>\n",
       "    </tr>\n",
       "    <tr>\n",
       "      <th>7</th>\n",
       "      <td>AC</td>\n",
       "    </tr>\n",
       "    <tr>\n",
       "      <th>8</th>\n",
       "      <td>AC</td>\n",
       "    </tr>\n",
       "    <tr>\n",
       "      <th>9</th>\n",
       "      <td>TV</td>\n",
       "    </tr>\n",
       "  </tbody>\n",
       "</table>\n",
       "</div>"
      ],
      "text/plain": [
       "  Produk Elektronik Yang Terjual\n",
       "0                             TV\n",
       "1                          Radio\n",
       "2                          Radio\n",
       "3                             TV\n",
       "4                             TV\n",
       "5                             TV\n",
       "6                             TV\n",
       "7                             AC\n",
       "8                             AC\n",
       "9                             TV"
      ]
     },
     "execution_count": 51,
     "metadata": {},
     "output_type": "execute_result"
    }
   ],
   "source": [
    "# Pertama import library yang dibutuhkan\n",
    "import numpy as np\n",
    "import pandas as pd \n",
    "import matplotlib.pyplot as plt\n",
    "import seaborn as sns\n",
    "sns.set()\n",
    "\n",
    "# Kemudian mendeklarasikan variabel yang ingin dijadikan tabel dalam bentuk array\n",
    "produk = [\"TV\",\"Radio\",\"Radio\",\"TV\",\"TV\",\"TV\",\"TV\",\"AC\",\"AC\",\"TV\"]\n",
    "\n",
    "tabel = pd.DataFrame({'Produk Elektronik Yang Terjual':produk}) \n",
    "# Fungsi ini digunakan untuk memasukkan variabel yang diinginkan ke dalam tabel\n",
    "tabel"
   ]
  },
  {
   "cell_type": "markdown",
   "id": "eb6c8e01",
   "metadata": {},
   "source": [
    "Kita juga bisa langsung melihat distribusi frekuensinya dengan cara:"
   ]
  },
  {
   "cell_type": "code",
   "execution_count": 3,
   "id": "663168bc",
   "metadata": {},
   "outputs": [
    {
     "data": {
      "text/plain": [
       "Produk Elektronik Yang Terjual\n",
       "TV                                6\n",
       "AC                                2\n",
       "Radio                             2\n",
       "dtype: int64"
      ]
     },
     "execution_count": 3,
     "metadata": {},
     "output_type": "execute_result"
    }
   ],
   "source": [
    "tabel_distribusi = tabel.value_counts() # Fungsi ini untuk menghitung frekuensi distribusi\n",
    "tabel_distribusi"
   ]
  },
  {
   "cell_type": "markdown",
   "id": "cbe7148f",
   "metadata": {},
   "source": [
    "Pada data kuantitatif, pembentukan distribusi frekuensi mengikuti\n",
    "beberapa langkah khusus. Menurut Anderson, Sweeney, dan Williams (2011)\n",
    "langkah tersebut adalah:\n",
    "1. menentukan jumlah kelas yang diinginkan;\n",
    "2. menentukan lebar kelas;\n",
    "3. menentukan batas bawah dan batas atas kelas.\n",
    "**Jumlah kelas** dibentuk dari range data yang akan digunakan untuk\n",
    "mengelompokkan data. Secara umum jumlah kelas yang dapat digunakan\n",
    "adalah antara 5 hingga 20 kelas. Untuk jumlah data yang sedikit cukup\n",
    "menggunakan 5 atau 6 kelas. Sedangkan untuk data yang besar juga\n",
    "dibutuhkan jumlah kelas yang besar pula. Beberapa referensi juga\n",
    "memberikan pendekatan rumus untuk mendapatkan kelas yang cukup baik,\n",
    "yaitu $k = 1 + 3,3log(n) $, dengan $k$ adalah jumlah kelas dan $n$ adalah\n",
    "jumlah sampel."
   ]
  },
  {
   "cell_type": "markdown",
   "id": "7544a23f",
   "metadata": {},
   "source": [
    "**Lebar kelas** atau selang kelas ditentukan sama untuk semua kelas.\n",
    "Perhitungan lebar kelas adalah dengan menghitung selisih data maksimum\n",
    "dan minimum, kemudian membaginya dengan jumlah kelas.\n",
    "\n",
    "$$\\large\n",
    "lebar\\ kelas = \\frac{maksimum-minimun}{jumlah\\ kelas}\n",
    "$$\n",
    "\n",
    "Batas bawah didefinisikan sebagai nilai terkecil yang mungkin dari\n",
    "selang kelas yang bersangkutan. Begitu juga batas atas adalah nilai\n",
    "maksimum yang mungkin. **Batas bawah** dan **batas atas** dipilih sehingga\n",
    "setiap data akan hanya masuk pada satu kelas."
   ]
  },
  {
   "cell_type": "markdown",
   "id": "e9dcba5c",
   "metadata": {},
   "source": [
    "Contoh terdapat Data Berat Badan 20 Sampel Ayam"
   ]
  },
  {
   "cell_type": "code",
   "execution_count": 4,
   "id": "8f080ff1",
   "metadata": {},
   "outputs": [
    {
     "data": {
      "text/html": [
       "<div>\n",
       "<style scoped>\n",
       "    .dataframe tbody tr th:only-of-type {\n",
       "        vertical-align: middle;\n",
       "    }\n",
       "\n",
       "    .dataframe tbody tr th {\n",
       "        vertical-align: top;\n",
       "    }\n",
       "\n",
       "    .dataframe thead th {\n",
       "        text-align: right;\n",
       "    }\n",
       "</style>\n",
       "<table border=\"1\" class=\"dataframe\">\n",
       "  <thead>\n",
       "    <tr style=\"text-align: right;\">\n",
       "      <th></th>\n",
       "      <th>Berat badan</th>\n",
       "    </tr>\n",
       "  </thead>\n",
       "  <tbody>\n",
       "    <tr>\n",
       "      <th>0</th>\n",
       "      <td>2.50</td>\n",
       "    </tr>\n",
       "    <tr>\n",
       "      <th>1</th>\n",
       "      <td>2.60</td>\n",
       "    </tr>\n",
       "    <tr>\n",
       "      <th>2</th>\n",
       "      <td>2.50</td>\n",
       "    </tr>\n",
       "    <tr>\n",
       "      <th>3</th>\n",
       "      <td>2.29</td>\n",
       "    </tr>\n",
       "    <tr>\n",
       "      <th>4</th>\n",
       "      <td>2.30</td>\n",
       "    </tr>\n",
       "    <tr>\n",
       "      <th>5</th>\n",
       "      <td>2.22</td>\n",
       "    </tr>\n",
       "    <tr>\n",
       "      <th>6</th>\n",
       "      <td>2.12</td>\n",
       "    </tr>\n",
       "    <tr>\n",
       "      <th>7</th>\n",
       "      <td>2.45</td>\n",
       "    </tr>\n",
       "    <tr>\n",
       "      <th>8</th>\n",
       "      <td>2.50</td>\n",
       "    </tr>\n",
       "    <tr>\n",
       "      <th>9</th>\n",
       "      <td>2.43</td>\n",
       "    </tr>\n",
       "    <tr>\n",
       "      <th>10</th>\n",
       "      <td>2.45</td>\n",
       "    </tr>\n",
       "    <tr>\n",
       "      <th>11</th>\n",
       "      <td>2.60</td>\n",
       "    </tr>\n",
       "    <tr>\n",
       "      <th>12</th>\n",
       "      <td>2.60</td>\n",
       "    </tr>\n",
       "    <tr>\n",
       "      <th>13</th>\n",
       "      <td>2.29</td>\n",
       "    </tr>\n",
       "    <tr>\n",
       "      <th>14</th>\n",
       "      <td>2.33</td>\n",
       "    </tr>\n",
       "    <tr>\n",
       "      <th>15</th>\n",
       "      <td>2.25</td>\n",
       "    </tr>\n",
       "    <tr>\n",
       "      <th>16</th>\n",
       "      <td>2.19</td>\n",
       "    </tr>\n",
       "    <tr>\n",
       "      <th>17</th>\n",
       "      <td>2.50</td>\n",
       "    </tr>\n",
       "    <tr>\n",
       "      <th>18</th>\n",
       "      <td>2.50</td>\n",
       "    </tr>\n",
       "    <tr>\n",
       "      <th>19</th>\n",
       "      <td>2.45</td>\n",
       "    </tr>\n",
       "  </tbody>\n",
       "</table>\n",
       "</div>"
      ],
      "text/plain": [
       "    Berat badan\n",
       "0          2.50\n",
       "1          2.60\n",
       "2          2.50\n",
       "3          2.29\n",
       "4          2.30\n",
       "5          2.22\n",
       "6          2.12\n",
       "7          2.45\n",
       "8          2.50\n",
       "9          2.43\n",
       "10         2.45\n",
       "11         2.60\n",
       "12         2.60\n",
       "13         2.29\n",
       "14         2.33\n",
       "15         2.25\n",
       "16         2.19\n",
       "17         2.50\n",
       "18         2.50\n",
       "19         2.45"
      ]
     },
     "execution_count": 4,
     "metadata": {},
     "output_type": "execute_result"
    }
   ],
   "source": [
    "bb = [2.50,2.60,2.50,2.29,2.30,2.22,2.12,2.45,2.50,2.43,2.45,2.60,2.60,2.29,2.33,2.25,2.19,2.50,2.50,2.45]\n",
    "distribusi_bb = pd.DataFrame({'Berat badan':bb})\n",
    "distribusi_bb"
   ]
  },
  {
   "cell_type": "markdown",
   "id": "dba267d9",
   "metadata": {},
   "source": [
    "Dari data diatas akan dibentuk distribusi frekuensi\n",
    "dengan jumlah data 20. Dengan menggunakan python kita langsung bisa langsung menentukan berapa lebar kelas yang kita inginkan\n",
    "\n",
    "Dengan fungsi:"
   ]
  },
  {
   "cell_type": "code",
   "execution_count": 5,
   "id": "036937d6",
   "metadata": {},
   "outputs": [
    {
     "data": {
      "text/html": [
       "<div>\n",
       "<style scoped>\n",
       "    .dataframe tbody tr th:only-of-type {\n",
       "        vertical-align: middle;\n",
       "    }\n",
       "\n",
       "    .dataframe tbody tr th {\n",
       "        vertical-align: top;\n",
       "    }\n",
       "\n",
       "    .dataframe thead th {\n",
       "        text-align: right;\n",
       "    }\n",
       "</style>\n",
       "<table border=\"1\" class=\"dataframe\">\n",
       "  <thead>\n",
       "    <tr style=\"text-align: right;\">\n",
       "      <th></th>\n",
       "      <th>Frekuensi</th>\n",
       "    </tr>\n",
       "  </thead>\n",
       "  <tbody>\n",
       "    <tr>\n",
       "      <th>(2.12, 2.2]</th>\n",
       "      <td>2</td>\n",
       "    </tr>\n",
       "    <tr>\n",
       "      <th>(2.2, 2.28]</th>\n",
       "      <td>2</td>\n",
       "    </tr>\n",
       "    <tr>\n",
       "      <th>(2.28, 2.36]</th>\n",
       "      <td>4</td>\n",
       "    </tr>\n",
       "    <tr>\n",
       "      <th>(2.36, 2.44]</th>\n",
       "      <td>1</td>\n",
       "    </tr>\n",
       "    <tr>\n",
       "      <th>(2.44, 2.52]</th>\n",
       "      <td>8</td>\n",
       "    </tr>\n",
       "    <tr>\n",
       "      <th>(2.52, 2.6]</th>\n",
       "      <td>3</td>\n",
       "    </tr>\n",
       "  </tbody>\n",
       "</table>\n",
       "</div>"
      ],
      "text/plain": [
       "              Frekuensi\n",
       "(2.12, 2.2]           2\n",
       "(2.2, 2.28]           2\n",
       "(2.28, 2.36]          4\n",
       "(2.36, 2.44]          1\n",
       "(2.44, 2.52]          8\n",
       "(2.52, 2.6]           3"
      ]
     },
     "execution_count": 5,
     "metadata": {},
     "output_type": "execute_result"
    }
   ],
   "source": [
    "bb_frek = pd.cut(bb, 6).value_counts()\n",
    "df_frek = pd.DataFrame({'Frekuensi':bb_frek})\n",
    "df_frek"
   ]
  },
  {
   "cell_type": "markdown",
   "id": "9de8d867",
   "metadata": {},
   "source": [
    "Dari uraian-uraian tersebut dapat disimpulkan bahwa frekuensi adalah\n",
    "banyaknya data yang termasuk pada masing-masing selang interval atau\n",
    "kelas. Tabel distribusi frekuensi adalah tabel yang menunjukkan distribusi\n",
    "banyaknya data yang termasuk pada kelas-kelas tertentu. Dari nilai frekuensi\n",
    "juga dapat dihitung frekuensi kumulatif dan frekuensi relatif (proporsi).\n",
    "Frekuensi kumulatif adalah penjumlahan frekuensi kelas ke- k dengan\n",
    "frekuensi kelas sebelumnya."
   ]
  },
  {
   "cell_type": "code",
   "execution_count": 7,
   "id": "9657c727",
   "metadata": {},
   "outputs": [
    {
     "data": {
      "text/html": [
       "<div>\n",
       "<style scoped>\n",
       "    .dataframe tbody tr th:only-of-type {\n",
       "        vertical-align: middle;\n",
       "    }\n",
       "\n",
       "    .dataframe tbody tr th {\n",
       "        vertical-align: top;\n",
       "    }\n",
       "\n",
       "    .dataframe thead th {\n",
       "        text-align: right;\n",
       "    }\n",
       "</style>\n",
       "<table border=\"1\" class=\"dataframe\">\n",
       "  <thead>\n",
       "    <tr style=\"text-align: right;\">\n",
       "      <th></th>\n",
       "      <th>Frekuensi</th>\n",
       "      <th>Frekuensi Kumulatif</th>\n",
       "    </tr>\n",
       "  </thead>\n",
       "  <tbody>\n",
       "    <tr>\n",
       "      <th>(2.12, 2.2]</th>\n",
       "      <td>2</td>\n",
       "      <td>2</td>\n",
       "    </tr>\n",
       "    <tr>\n",
       "      <th>(2.2, 2.28]</th>\n",
       "      <td>2</td>\n",
       "      <td>4</td>\n",
       "    </tr>\n",
       "    <tr>\n",
       "      <th>(2.28, 2.36]</th>\n",
       "      <td>4</td>\n",
       "      <td>8</td>\n",
       "    </tr>\n",
       "    <tr>\n",
       "      <th>(2.36, 2.44]</th>\n",
       "      <td>1</td>\n",
       "      <td>9</td>\n",
       "    </tr>\n",
       "    <tr>\n",
       "      <th>(2.44, 2.52]</th>\n",
       "      <td>8</td>\n",
       "      <td>17</td>\n",
       "    </tr>\n",
       "    <tr>\n",
       "      <th>(2.52, 2.6]</th>\n",
       "      <td>3</td>\n",
       "      <td>20</td>\n",
       "    </tr>\n",
       "  </tbody>\n",
       "</table>\n",
       "</div>"
      ],
      "text/plain": [
       "              Frekuensi  Frekuensi Kumulatif\n",
       "(2.12, 2.2]           2                    2\n",
       "(2.2, 2.28]           2                    4\n",
       "(2.28, 2.36]          4                    8\n",
       "(2.36, 2.44]          1                    9\n",
       "(2.44, 2.52]          8                   17\n",
       "(2.52, 2.6]           3                   20"
      ]
     },
     "execution_count": 7,
     "metadata": {},
     "output_type": "execute_result"
    }
   ],
   "source": [
    "# Kita bisa menggunakan fungsi ini untuk mendapatkan frekuensi kumulatif\n",
    "df_frek['Frekuensi Kumulatif'] = df_frek['Frekuensi'].cumsum() \n",
    "df_frek"
   ]
  },
  {
   "cell_type": "markdown",
   "id": "b3548a8d",
   "metadata": {},
   "source": [
    "### B. DIAGRAM BATANG\n",
    "\n",
    "Diagram batang adalah diagram yang menunjukkan nilai-nilai frekuensi,\n",
    "frekuensi kumulatif, atau frekuensi relatif. Diagram ini memiliki sumbu\n",
    "horizontal yang menunjukkan kelas atau kelompok dan sumbu vertikal\n",
    "merupakan batang-batang yang bernilai frekuensi, frekuensi kumulatif, atau\n",
    "frekuensi relatif. Diagram batang ini lebih sering digunakan untuk data\n",
    "kualitatif.\n",
    "\n",
    "Sebagai contoh adalah diagram batang\n",
    "data produk elektronik. Pada python kita bisa langsung merubah data menjadi diagram batang dengan cara:"
   ]
  },
  {
   "cell_type": "code",
   "execution_count": 8,
   "id": "c0d6ff38",
   "metadata": {},
   "outputs": [
    {
     "data": {
      "image/png": "[encoded data removed]",
      "text/plain": [
       "<Figure size 640x480 with 1 Axes>"
      ]
     },
     "metadata": {},
     "output_type": "display_data"
    }
   ],
   "source": [
    "tabel_distribusi.plot(kind='bar');"
   ]
  },
  {
   "cell_type": "markdown",
   "id": "7ce48dd9",
   "metadata": {},
   "source": [
    "### C. HISTOGRAM\n",
    "\n",
    "Histogram adalah diagram batang untuk data kuantitatif. Berbeda dengan\n",
    "diagram batang sebelumnya, batang pada diagram ini memiliki lebar yang\n",
    "sama dengan interval kelasnya.\n",
    "\n",
    "Sebagai contoh adalah histogram dari Data Berat Badan Ayam"
   ]
  },
  {
   "cell_type": "code",
   "execution_count": 16,
   "id": "ee8ac957",
   "metadata": {},
   "outputs": [
    {
     "data": {
      "text/plain": [
       "<AxesSubplot:xlabel='Histogram Data Berat Badan Ayam'>"
      ]
     },
     "execution_count": 16,
     "metadata": {},
     "output_type": "execute_result"
    },
    {
     "data": {
      "image/png": "[encoded data removed]",
      "text/plain": [
       "<Figure size 640x480 with 1 Axes>"
      ]
     },
     "metadata": {},
     "output_type": "display_data"
    }
   ],
   "source": [
    "df_frek.plot(kind='bar', xlabel='Histogram Data Berat Badan Ayam')"
   ]
  },
  {
   "cell_type": "markdown",
   "id": "751d213c",
   "metadata": {},
   "source": [
    "Histogram digunakan untuk melihat distribusi dari data, yang terdiri atas\n",
    "beberapa informasi berikut ini.\n",
    "1. Melihat ukuran penyebaran dan ukuran pemusatan data.\n",
    "2. Melihat adanya data pencilan data (outlier).\n",
    "3. Mendeteksi adanya bimodus/tidak."
   ]
  },
  {
   "cell_type": "markdown",
   "id": "c2958a08",
   "metadata": {},
   "source": [
    "### D. DIAGRAM LINGKARAN\n",
    "\n",
    "Diagram lingkaran adalah diagram yang menunjukkan nilai-nilai\n",
    "presentase frekuensi pada masing-masing kelas atau kelompok. Perbedaan\n",
    "persentase frekuensi pada masing-masing kelompok ditunjukkan oleh bentuk\n",
    "luasan lingkaran yang terbagi-bagi sesuai jumlah kelompok. Diagram ini\n",
    "dapat digunakan untuk data kualitatif maupun kuantitatif.\n",
    "\n",
    "Sebagai contoh adalah diagram lingkaran\n",
    "data produk elektronik. Terlihat bahwa lingkaran yang ada terbagi-bagi\n",
    "menjadi 3 kelompok. Bagian yang terluas menunjukkan kelompok yang\n",
    "memiliki frekuensi tertinggi atau persentase frekuensi tertinggi, yaitu produk\n",
    "TV yang berjumlah 60%."
   ]
  },
  {
   "cell_type": "code",
   "execution_count": 29,
   "id": "fa939657",
   "metadata": {},
   "outputs": [
    {
     "data": {
      "image/png": "[encoded data removed]",
      "text/plain": [
       "<Figure size 640x480 with 1 Axes>"
      ]
     },
     "metadata": {},
     "output_type": "display_data"
    }
   ],
   "source": [
    "plt.pie(tabel_distribusi, autopct='%1.1f%%', labels=['TV','Radio','AC'], shadow=True, explode=(0.1, 0.1, 0.1))\n",
    "\n",
    "plt.title('Diagram Lingkaran Produk Elektronik')\n",
    "plt.legend()\n",
    "plt.show()"
   ]
  },
  {
   "cell_type": "markdown",
   "id": "13600a2c",
   "metadata": {},
   "source": [
    "Contoh kedua adalah diagram lingkaran dari\n",
    "data kuantitatif berat badan ayam"
   ]
  },
  {
   "cell_type": "code",
   "execution_count": 39,
   "id": "216c3c5d",
   "metadata": {},
   "outputs": [
    {
     "data": {
      "image/png": "[encoded data removed]",
      "text/plain": [
       "<Figure size 640x480 with 1 Axes>"
      ]
     },
     "metadata": {},
     "output_type": "display_data"
    }
   ],
   "source": [
    "plt.pie(df_frek['Frekuensi'], labels=df_frek.index, autopct='%1.1f%%', shadow=True, explode=(0.1, 0.1, 0.1, 0.1, 0.1, 0.1))\n",
    "\n",
    "plt.title('Diagram Lingkaran Data Berat Badan Ayam')\n",
    "plt.legend(loc=2, prop={'size': 6})\n",
    "plt.show()"
   ]
  },
  {
   "cell_type": "markdown",
   "id": "442357f8",
   "metadata": {},
   "source": [
    "### E. BOXPLOT\n",
    "\n",
    "Boxplot atau diagram kotak garis berfungsi untuk eksplorasi atau\n",
    "ringkasan data yang digambarkan secara grafis. Disebut juga diagram kotak\n",
    "(box) dan whisker. Diagram ini dapat menggambarkan pemusatan,\n",
    "penyebaran, dan outlier. Penyebaran data ditunjukkan oleh nilai-nilai kuartil.\n",
    "\n",
    "Langkah-langkah yang dilakukan untuk membuatnya adalah:\n",
    "1. Menghitung nilai kuartil pertama ( $Q_1$ ), kedua ( $Q_2$ ), dan ketiga ( $Q_3$ ).\n",
    "Gambarlah kotak garis dengan garis horizontal di bagian bawah adalah\n",
    "kuartil pertama dan garis horizontal di bagian atas adalah kuartil ketiga.\n",
    "Sementara itu, garis yang berada di bagian tengah yang membagi kotak\n",
    "menjadi dua bagian adalah kuartil kedua atau median.\n",
    "2. Menghitung nilai jangkauan kuartil (inner quartile range=IQR).\n",
    "IQR = $Q_3-Q_1$\n",
    "3. Menghitung upper whisker dan lower whisker\n",
    "\n",
    "Upper whisker = $Q_3 + 1,5$ IQR\n",
    "\n",
    "Lower whisker = $Q_1 – 1,5$ IQR\n",
    "\n",
    "Nilai ini digunakan untuk menentukan posisi data outlier. Suatu data\n",
    "dikatakan outlier apabila terletak di atas upper whisker atau di bawah lower\n",
    "whisker. Data yang berada di luar $2(Q_3 + 1,5IQR)$ atau $2(Q_1 - 1,5IQR)$\n",
    "dinamakan extreme outlier.\n",
    "\n",
    "Menggambar garis whisker antara garis kuartil ketiga hingga nilai\n",
    "terakhir yang masih masuk wilayah upper whisker. Selanjutnya digambarkan\n",
    "juga garis whisker antara garis kuartil pertama hingga nilai terakhir yang\n",
    "masih masuk wilayah lower whisker\n",
    "\n"
   ]
  },
  {
   "attachments": {
    "image.png": {
     "image/png": "[encoded data removed]"
    }
   },
   "cell_type": "markdown",
   "id": "0fba0245",
   "metadata": {},
   "source": [
    "![image.png](attachment:image.png)"
   ]
  },
  {
   "cell_type": "markdown",
   "id": "016b8f1a",
   "metadata": {},
   "source": [
    "Kita juga bisa langsung membuat boxplot dengan mudah menggunakan pythoh, seperti berikut:"
   ]
  },
  {
   "cell_type": "code",
   "execution_count": 46,
   "id": "4303a063",
   "metadata": {},
   "outputs": [
    {
     "data": {
      "text/plain": [
       "<AxesSubplot:xlabel='Frekuensi'>"
      ]
     },
     "execution_count": 46,
     "metadata": {},
     "output_type": "execute_result"
    },
    {
     "data": {
      "image/png": "[encoded data removed]",
      "text/plain": [
       "<Figure size 640x480 with 1 Axes>"
      ]
     },
     "metadata": {},
     "output_type": "display_data"
    }
   ],
   "source": [
    "sns.boxplot(x=df_frek['Frekuensi'])"
   ]
  },
  {
   "cell_type": "markdown",
   "id": "8219ab7b",
   "metadata": {},
   "source": [
    "## Ukuran Pemusatan dan Penyebaran\n",
    "\n",
    "Ukuran pemusatan atau central tendency. Nilai sentral\n",
    "atau nilai tengah sekumpulan data adalah nilai yang dipandang dapat\n",
    "menggambarkan ukuran pemusatan data yang berkaitan dengan letak\n",
    "(lokasi). Statistik yang tergolong dalam ukuran pemusatan adalah rata-rata,\n",
    "median, modus, kuartil, dan persentil.\n",
    "\n",
    "Dengan menggunakan python kita bisa langsung dengan mudah mengetahuinya, dengan cara:"
   ]
  },
  {
   "cell_type": "code",
   "execution_count": 50,
   "id": "52f41912",
   "metadata": {},
   "outputs": [
    {
     "data": {
      "text/html": [
       "<div>\n",
       "<style scoped>\n",
       "    .dataframe tbody tr th:only-of-type {\n",
       "        vertical-align: middle;\n",
       "    }\n",
       "\n",
       "    .dataframe tbody tr th {\n",
       "        vertical-align: top;\n",
       "    }\n",
       "\n",
       "    .dataframe thead th {\n",
       "        text-align: right;\n",
       "    }\n",
       "</style>\n",
       "<table border=\"1\" class=\"dataframe\">\n",
       "  <thead>\n",
       "    <tr style=\"text-align: right;\">\n",
       "      <th></th>\n",
       "      <th>Berat badan</th>\n",
       "    </tr>\n",
       "  </thead>\n",
       "  <tbody>\n",
       "    <tr>\n",
       "      <th>count</th>\n",
       "      <td>20.000000</td>\n",
       "    </tr>\n",
       "    <tr>\n",
       "      <th>mean</th>\n",
       "      <td>2.403500</td>\n",
       "    </tr>\n",
       "    <tr>\n",
       "      <th>std</th>\n",
       "      <td>0.144123</td>\n",
       "    </tr>\n",
       "    <tr>\n",
       "      <th>min</th>\n",
       "      <td>2.120000</td>\n",
       "    </tr>\n",
       "    <tr>\n",
       "      <th>25%</th>\n",
       "      <td>2.290000</td>\n",
       "    </tr>\n",
       "    <tr>\n",
       "      <th>50%</th>\n",
       "      <td>2.450000</td>\n",
       "    </tr>\n",
       "    <tr>\n",
       "      <th>75%</th>\n",
       "      <td>2.500000</td>\n",
       "    </tr>\n",
       "    <tr>\n",
       "      <th>max</th>\n",
       "      <td>2.600000</td>\n",
       "    </tr>\n",
       "  </tbody>\n",
       "</table>\n",
       "</div>"
      ],
      "text/plain": [
       "       Berat badan\n",
       "count    20.000000\n",
       "mean      2.403500\n",
       "std       0.144123\n",
       "min       2.120000\n",
       "25%       2.290000\n",
       "50%       2.450000\n",
       "75%       2.500000\n",
       "max       2.600000"
      ]
     },
     "execution_count": 50,
     "metadata": {},
     "output_type": "execute_result"
    }
   ],
   "source": [
    "distribusi_bb.describe()"
   ]
  },
  {
   "cell_type": "code",
   "execution_count": 52,
   "id": "d5e69af1",
   "metadata": {},
   "outputs": [
    {
     "data": {
      "text/plain": [
       "Berat badan    5.996362\n",
       "dtype: float64"
      ]
     },
     "execution_count": 52,
     "metadata": {},
     "output_type": "execute_result"
    }
   ],
   "source": [
    "cv = lambda x: np.std(x, ddof=1) / np.mean(x) * 100  # Fungsi untuk menghitung koefisien varian\n",
    "\n",
    "distribusi_bb.apply(cv) "
   ]
  },
  {
   "cell_type": "markdown",
   "id": "c7a190e4",
   "metadata": {},
   "source": [
    "#### Sumber Penting:\n",
    "\n",
    "https://www.statology.org/coefficient-of-variation-in-python/#:~:text=CV%20%3D%20%CF%83%20%2F%20%CE%BC,The%20standard%20deviation%20of%20dataset"
   ]
  },
  {
   "cell_type": "code",
   "execution_count": null,
   "id": "b49273e1",
   "metadata": {},
   "outputs": [],
   "source": []
  }
 ],
 "metadata": {
  "kernelspec": {
   "display_name": "Python 3 (ipykernel)",
   "language": "python",
   "name": "python3"
  },
  "language_info": {
   "codemirror_mode": {
    "name": "ipython",
    "version": 3
   },
   "file_extension": ".py",
   "mimetype": "text/x-python",
   "name": "python",
   "nbconvert_exporter": "python",
   "pygments_lexer": "ipython3",
   "version": "3.9.13"
  }
 },
 "nbformat": 4,
 "nbformat_minor": 5
}
